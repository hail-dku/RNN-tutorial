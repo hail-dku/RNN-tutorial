{
  "nbformat": 4,
  "nbformat_minor": 0,
  "metadata": {
    "colab": {
      "provenance": []
    },
    "kernelspec": {
      "name": "python3",
      "display_name": "Python 3"
    },
    "language_info": {
      "name": "python"
    }
  },
  "cells": [
    {
      "cell_type": "markdown",
      "source": [
        "# 0.basics\n"
      ],
      "metadata": {
        "id": "vv_gqqVE7-JT"
      }
    },
    {
      "cell_type": "markdown",
      "source": [
        "우리는 또 케라스를 쓸겁니다.\n",
        "\n",
        "거기서 Dense, Conv2D 같은 모듈이 있던 것처럼, RNN 에 대해서도 모듈이 있습니다.\n",
        "\n",
        "```\n",
        "import tensorflow as tf\n",
        "from tf.keras.layers import RNN, LSTM, GRU\n",
        "```\n",
        "\n",
        "GRU는 안배웠는데, LSTM보다 더 발전된 형태입니다. 더 발전된건 맞는데 굳이 안써도 되고 써도되고 그렇습니다. 현) 구글 딥마인드에서 일하시는 정준영 박사님이 만드셨고, 우리나라에선 그래서 더 유명하기도 합니다. 우리 수업에서는 기본적인 컨셉은 RNN 계열과 동일하기 때문에 구태여 배우진 않았습니다만, 관심있으시면 혼자 공부해보세요!"
      ],
      "metadata": {
        "id": "5o1BznC5vJ8-"
      }
    },
    {
      "cell_type": "markdown",
      "source": [
        "# 1.many2one"
      ],
      "metadata": {
        "id": "-I4aTsNpT2VD"
      }
    },
    {
      "cell_type": "markdown",
      "source": [
        "본 예제는 텐서플로 공식 튜토리얼을 따랐습니다. https://www.tensorflow.org/text/tutorials/text_classification_rnn?hl=ko\n",
        "\n",
        "IMDB 영화리뷰 데이터 세트에서 좋은지 나쁜지의 BINARY 분류입니다.\n",
        "\n",
        "먼저 `tensorflow_datasets` 로부터 데이터를 불러오구요"
      ],
      "metadata": {
        "id": "T7dwAT-VwfPe"
      }
    },
    {
      "cell_type": "code",
      "source": [
        "import numpy as np\n",
        "\n",
        "import tensorflow_datasets as tfds\n",
        "import tensorflow as tf\n",
        "\n",
        "tfds.disable_progress_bar()"
      ],
      "metadata": {
        "id": "R8ayhJqsT44c"
      },
      "execution_count": null,
      "outputs": []
    },
    {
      "cell_type": "code",
      "source": [
        "# 이건 나중에 visualize 할려고 만든거.\n",
        "import matplotlib.pyplot as plt\n",
        "\n",
        "def plot_graphs(history, metric):\n",
        "  plt.plot(history.history[metric])\n",
        "  plt.plot(history.history['val_'+metric], '')\n",
        "  plt.xlabel(\"Epochs\")\n",
        "  plt.ylabel(metric)\n",
        "  plt.legend([metric, 'val_'+metric])"
      ],
      "metadata": {
        "id": "XwQpCnexT5EN"
      },
      "execution_count": null,
      "outputs": []
    },
    {
      "cell_type": "markdown",
      "source": [
        "데이터를 실제로 `tensorflow_datasets` 에서 load 합니다."
      ],
      "metadata": {
        "id": "n0hNe4evw2Q2"
      }
    },
    {
      "cell_type": "code",
      "execution_count": null,
      "metadata": {
        "id": "SHRwRoP2nVHX",
        "colab": {
          "base_uri": "https://localhost:8080/"
        },
        "outputId": "94074a71-5831-4588-bbd5-05c30e8566f7"
      },
      "outputs": [
        {
          "output_type": "stream",
          "name": "stdout",
          "text": [
            "Downloading and preparing dataset 80.23 MiB (download: 80.23 MiB, generated: Unknown size, total: 80.23 MiB) to ~/tensorflow_datasets/imdb_reviews/plain_text/1.0.0...\n",
            "Dataset imdb_reviews downloaded and prepared to ~/tensorflow_datasets/imdb_reviews/plain_text/1.0.0. Subsequent calls will reuse this data.\n"
          ]
        },
        {
          "output_type": "execute_result",
          "data": {
            "text/plain": [
              "(TensorSpec(shape=(), dtype=tf.string, name=None),\n",
              " TensorSpec(shape=(), dtype=tf.int64, name=None))"
            ]
          },
          "metadata": {},
          "execution_count": 3
        }
      ],
      "source": [
        "dataset, info = tfds.load('imdb_reviews', with_info=True,\n",
        "                          as_supervised=True)\n",
        "train_dataset, test_dataset = dataset['train'], dataset['test']\n",
        "\n",
        "train_dataset.element_spec"
      ]
    },
    {
      "cell_type": "markdown",
      "source": [
        " 결과를 프린트해보면\n",
        "`text: (대충 심한말)` 이었으면\n",
        "`label: 0` 이 나오네요\n"
      ],
      "metadata": {
        "id": "6eakcgD808Z1"
      }
    },
    {
      "cell_type": "code",
      "source": [
        "for example, label in train_dataset.take(1):\n",
        "  print('text: ', example.numpy())\n",
        "  print('label: ', label.numpy())"
      ],
      "metadata": {
        "colab": {
          "base_uri": "https://localhost:8080/"
        },
        "id": "0SjahV5nw-BF",
        "outputId": "07d52d76-340b-430e-8440-852dd6fa3cd2"
      },
      "execution_count": null,
      "outputs": [
        {
          "output_type": "stream",
          "name": "stdout",
          "text": [
            "text:  b\"This was an absolutely terrible movie. Don't be lured in by Christopher Walken or Michael Ironside. Both are great actors, but this must simply be their worst role in history. Even their great acting could not redeem this movie's ridiculous storyline. This movie is an early nineties US propaganda piece. The most pathetic scenes were those when the Columbian rebels were making their cases for revolutions. Maria Conchita Alonso appeared phony, and her pseudo-love affair with Walken was nothing but a pathetic emotional plug in a movie that was devoid of any real meaning. I am disappointed that there are movies like this, ruining actor's like Christopher Walken's good name. I could barely sit through it.\"\n",
            "label:  0\n"
          ]
        }
      ]
    },
    {
      "cell_type": "markdown",
      "source": [
        "데이터 섞기 그리고 배치사이즈를 지정합니다.\n",
        "\n",
        "BUFFER_SIZE: 그 섞을 크기 지정\n",
        "\n",
        "BATCH_SIZE: 배치 학습에 넣을 배치 크기 지정"
      ],
      "metadata": {
        "id": "tt3FaERmxB0O"
      }
    },
    {
      "cell_type": "code",
      "execution_count": null,
      "metadata": {
        "id": "dDsCaZCDYZgm"
      },
      "outputs": [],
      "source": [
        "BUFFER_SIZE = 10000\n",
        "BATCH_SIZE = 64"
      ]
    },
    {
      "cell_type": "code",
      "execution_count": null,
      "metadata": {
        "id": "VznrltNOnUc5"
      },
      "outputs": [],
      "source": [
        "train_dataset = train_dataset.shuffle(BUFFER_SIZE).batch(BATCH_SIZE).prefetch(tf.data.AUTOTUNE)\n",
        "test_dataset = test_dataset.batch(BATCH_SIZE).prefetch(tf.data.AUTOTUNE)"
      ]
    },
    {
      "cell_type": "markdown",
      "source": [
        "## 인코더\n",
        "\n",
        "자연어처리하는 경우에는 이 텍스트를 그냥 넣어주지 않고, 단어로 나눈다 음 다시 어떤 숫자로 치환해줍니다. 우리가 one-hot encoding 배웠었죠? 그런식으로 숫자값으로 바꿔야 컴퓨터가 이해할 수 있겠죠.\n",
        "\n",
        "이런건 `TextVectorization`이 해줍니다. 최대 단어 갯수 `VOCAB_SIZE`를 지정해주고 `encoder`로 저장합니다.\n",
        "\n",
        "그다음 `encoder.adapt`를 하세요! 자동적으로 자르고 단어로 만들어서 구분지어 넣어줍니다.\n",
        "\n",
        "다음은 `adapt()` 메서드가 해주는 것에 대한 공식 설명입니다.\n",
        "\n",
        "\n",
        "\n",
        "1.  Standardize each example (usually lowercasing + punctuation stripping)\n",
        "\n",
        "2.  Split each example into substrings (usually words)\n",
        "\n",
        "3.  Recombine substrings into tokens (usually ngrams)\n",
        "\n",
        "4. Index tokens (associate a unique int value with each token)\n",
        "\n",
        "5. Transform each example using this index, either into a vector of ints or a dense float vector.\n"
      ],
      "metadata": {
        "id": "Lcp6Sb8CyQTg"
      }
    },
    {
      "cell_type": "code",
      "source": [
        "VOCAB_SIZE = 1000\n",
        "encoder = tf.keras.layers.TextVectorization(\n",
        "    max_tokens=VOCAB_SIZE)\n",
        "encoder.adapt(train_dataset.map(lambda text, label: text))"
      ],
      "metadata": {
        "id": "QVjSpI5dyStK"
      },
      "execution_count": null,
      "outputs": []
    },
    {
      "cell_type": "code",
      "source": [
        "vocab = np.array(encoder.get_vocabulary())\n",
        "vocab[:20]"
      ],
      "metadata": {
        "colab": {
          "base_uri": "https://localhost:8080/"
        },
        "id": "aFNoGXHEyU9e",
        "outputId": "c28573c5-d4b1-469f-ba95-2005478c14a2"
      },
      "execution_count": null,
      "outputs": [
        {
          "output_type": "execute_result",
          "data": {
            "text/plain": [
              "array(['', '[UNK]', 'the', 'and', 'a', 'of', 'to', 'is', 'in', 'it', 'i',\n",
              "       'this', 'that', 'br', 'was', 'as', 'for', 'with', 'movie', 'but'],\n",
              "      dtype='<U14')"
            ]
          },
          "metadata": {},
          "execution_count": 8
        }
      ]
    },
    {
      "cell_type": "code",
      "source": [
        "# 숫자로도 잘 변환되어있습니다.\n",
        "print(example)\n",
        "\n",
        "encoded_example = encoder(example).numpy()\n",
        "print(encoded_example)\n",
        "print(encoded_example.shape)"
      ],
      "metadata": {
        "colab": {
          "base_uri": "https://localhost:8080/"
        },
        "id": "vqwkCpQhyV91",
        "outputId": "67482477-b5fd-420c-d092-5109ee2d2988"
      },
      "execution_count": null,
      "outputs": [
        {
          "output_type": "stream",
          "name": "stdout",
          "text": [
            "tf.Tensor(b\"This was an absolutely terrible movie. Don't be lured in by Christopher Walken or Michael Ironside. Both are great actors, but this must simply be their worst role in history. Even their great acting could not redeem this movie's ridiculous storyline. This movie is an early nineties US propaganda piece. The most pathetic scenes were those when the Columbian rebels were making their cases for revolutions. Maria Conchita Alonso appeared phony, and her pseudo-love affair with Walken was nothing but a pathetic emotional plug in a movie that was devoid of any real meaning. I am disappointed that there are movies like this, ruining actor's like Christopher Walken's good name. I could barely sit through it.\", shape=(), dtype=string)\n",
            "[ 11  14  34 412 384  18  90  28   1   8  33   1   1  42 487   1 191  24\n",
            "  85 152  19  11 217 316  28  65 240 214   8 489  54  65  85 112  96  22\n",
            "   1  11  93 642 743  11  18   7  34 394   1 170   1 408   2  88   1 137\n",
            "  66 144  51   2   1   1  66 245  65   1  16   1   1   1   1   1   1   3\n",
            "  40   1   1  17   1  14 158  19   4   1 891   1   8   4  18  12  14   1\n",
            "   5  99 146   1  10 237 704  12  48  24  93  39  11   1 152  39   1   1\n",
            "  50 398  10  96   1 851 141   9]\n",
            "(116,)\n"
          ]
        }
      ]
    },
    {
      "cell_type": "code",
      "source": [
        "example.dtype"
      ],
      "metadata": {
        "colab": {
          "base_uri": "https://localhost:8080/"
        },
        "id": "ixXBe34ALi3h",
        "outputId": "09997da1-4d2b-4fd1-e72b-b84c8724d042"
      },
      "execution_count": null,
      "outputs": [
        {
          "output_type": "execute_result",
          "data": {
            "text/plain": [
              "tf.string"
            ]
          },
          "metadata": {},
          "execution_count": 10
        }
      ]
    },
    {
      "cell_type": "code",
      "source": [
        "print(\"Original: \", example.numpy())\n",
        "print(\"Round-trip: \", \" \".join(vocab[encoded_example]))\n",
        "print()"
      ],
      "metadata": {
        "colab": {
          "base_uri": "https://localhost:8080/"
        },
        "id": "90RIsWy0yW9o",
        "outputId": "8a64a76a-bb29-4314-f88c-e05077f6bbac"
      },
      "execution_count": null,
      "outputs": [
        {
          "output_type": "stream",
          "name": "stdout",
          "text": [
            "Original:  b\"This was an absolutely terrible movie. Don't be lured in by Christopher Walken or Michael Ironside. Both are great actors, but this must simply be their worst role in history. Even their great acting could not redeem this movie's ridiculous storyline. This movie is an early nineties US propaganda piece. The most pathetic scenes were those when the Columbian rebels were making their cases for revolutions. Maria Conchita Alonso appeared phony, and her pseudo-love affair with Walken was nothing but a pathetic emotional plug in a movie that was devoid of any real meaning. I am disappointed that there are movies like this, ruining actor's like Christopher Walken's good name. I could barely sit through it.\"\n",
            "Round-trip:  this was an absolutely terrible movie dont be [UNK] in by [UNK] [UNK] or michael [UNK] both are great actors but this must simply be their worst role in history even their great acting could not [UNK] this movies ridiculous storyline this movie is an early [UNK] us [UNK] piece the most [UNK] scenes were those when the [UNK] [UNK] were making their [UNK] for [UNK] [UNK] [UNK] [UNK] [UNK] [UNK] and her [UNK] [UNK] with [UNK] was nothing but a [UNK] emotional [UNK] in a movie that was [UNK] of any real [UNK] i am disappointed that there are movies like this [UNK] actors like [UNK] [UNK] good name i could [UNK] sit through it\n",
            "\n"
          ]
        }
      ]
    },
    {
      "cell_type": "markdown",
      "source": [
        "## 간단 RNN classifier\n",
        "\n"
      ],
      "metadata": {
        "id": "gosihO0iy5qj"
      }
    },
    {
      "cell_type": "markdown",
      "source": [
        "위의 예제까지는 우리가 어떻게 자연어를 처리해서 넣었는지입니다.\n",
        "\n",
        "이걸 네트워크에 넣기 위해서 우리는 엠베딩이라는 걸 합니다. 이 엠베딩은 dense vector 로 표현하기 위해서 주로 씁니다. 위에서 인코딩 된 예제를 볼때 뒤에 0으로 가득 찬걸 봤죠? 정수를 사용해서 index 로 인코딩하면 그럴수 밖에 없는데, 실수로 구성된 벡터로 표현하면 더 적은 차원의 벡터로 표현할수있습니다. 그래서 엠베딩을 합니다.\n",
        "\n",
        "근데 엠베딩을 직접 할 수도 있는데요, 직접 어떤 기준에 따라 할수도 있는데, 보통은 그냥 학습 시킵니다.\n",
        "\n",
        "그래서 자연어 처리 네트워크 첫 번째는 보통 엠베딩 레이어가 되는 경우가 많아요.\n",
        "\n",
        "나머지는 RNN 넣고... 등등 하면 되겠죠?"
      ],
      "metadata": {
        "id": "xdU2k8Tl5aho"
      }
    },
    {
      "cell_type": "markdown",
      "source": [
        "얘는 embedding 역시도 배워야 되기 때문에 shape 이 서로 다른 데이터들이 들어갈 수 밖에 없어요. 데이터를 수정해서 사이즈를 맞춰주면 (padding) 괜찮긴 하지만 tfds에서 주이진 데이터를 건드리고 수정하려면 시간이 많이 걸리니까 그냥 그대로 쓰겠습니다.\n",
        "\n",
        "근데 그렇게 input shape 을 지정하지 않고 돌릴려면, sequential 방식으로 돌려야합니다. (기억나나요? sequential, functional, subclass API 방식의 keras)\n",
        "\n",
        "내부적으로 접근이 좀 불편해서 (중간에 hidden layer 값을 가져온다거나하는) 별로 안좋아하지만, 이렇게 처리하기 까다로운 데이터 (인풋 길이가 서로 다른 데이터)를 처리할때는 지정하지 않고 돌릴 수 있는 sequential API 방식이 편합니다.\n"
      ],
      "metadata": {
        "id": "NgoGR-UnOVGt"
      }
    },
    {
      "cell_type": "code",
      "source": [
        "from tensorflow.keras.layers import Input, SimpleRNN, LSTM,  Embedding, Dense\n",
        "from tensorflow.keras.models import Model\n",
        "import numpy as np\n",
        "\n",
        "model = tf.keras.Sequential([\n",
        "    encoder,\n",
        "    tf.keras.layers.Embedding(\n",
        "        input_dim=len(encoder.get_vocabulary()),\n",
        "        output_dim=64,\n",
        "        mask_zero=True),\n",
        "    LSTM(64),\n",
        "    # SimpleRNN(64)\n",
        "    Dense(64, activation='relu'),\n",
        "    Dense(1)\n",
        "])\n",
        "model.compile(loss=tf.keras.losses.BinaryCrossentropy(from_logits=True),\n",
        "              optimizer=tf.keras.optimizers.Adam(1e-4),\n",
        "              metrics=['accuracy'])\n",
        "\n",
        "model.summary()"
      ],
      "metadata": {
        "colab": {
          "base_uri": "https://localhost:8080/"
        },
        "id": "UsQSbSQjy9a1",
        "outputId": "7cfd5f38-7561-4284-cc1f-82d57a54c99f"
      },
      "execution_count": null,
      "outputs": [
        {
          "output_type": "stream",
          "name": "stdout",
          "text": [
            "Model: \"sequential_2\"\n",
            "_________________________________________________________________\n",
            " Layer (type)                Output Shape              Param #   \n",
            "=================================================================\n",
            " text_vectorization (TextVec  (None, None)             0         \n",
            " torization)                                                     \n",
            "                                                                 \n",
            " embedding_2 (Embedding)     (None, None, 64)          64000     \n",
            "                                                                 \n",
            " lstm_2 (LSTM)               (None, 64)                33024     \n",
            "                                                                 \n",
            " dense_4 (Dense)             (None, 64)                4160      \n",
            "                                                                 \n",
            " dense_5 (Dense)             (None, 1)                 65        \n",
            "                                                                 \n",
            "=================================================================\n",
            "Total params: 101,249\n",
            "Trainable params: 101,249\n",
            "Non-trainable params: 0\n",
            "_________________________________________________________________\n"
          ]
        }
      ]
    },
    {
      "cell_type": "code",
      "source": [
        "sample_text = ('The movie was cool. The animation and the graphics '\n",
        "               'were out of this world. I would recommend this movie.')\n",
        "np.array([sample_text]).dtype"
      ],
      "metadata": {
        "colab": {
          "base_uri": "https://localhost:8080/"
        },
        "id": "AolGJz_BFuxS",
        "outputId": "8c4e2bfb-e184-4d15-eb89-1636408b28fc"
      },
      "execution_count": null,
      "outputs": [
        {
          "output_type": "execute_result",
          "data": {
            "text/plain": [
              "dtype('<U104')"
            ]
          },
          "metadata": {},
          "execution_count": 21
        }
      ]
    },
    {
      "cell_type": "code",
      "source": [
        "sample_text = ('The movie was cool. The animation and the graphics '\n",
        "               'were out of this world. I would recommend this movie.')\n",
        "# predictions = model.predict([sample_text])\n",
        "predictions = model.predict(np.array([sample_text]))\n",
        "print(predictions[0])"
      ],
      "metadata": {
        "colab": {
          "base_uri": "https://localhost:8080/"
        },
        "id": "WpDqgLdKCCUq",
        "outputId": "a75c4422-8625-4ebf-8de0-1c7311bf508a"
      },
      "execution_count": null,
      "outputs": [
        {
          "output_type": "stream",
          "name": "stdout",
          "text": [
            "1/1 [==============================] - 2s 2s/step\n",
            "[0.01302028]\n"
          ]
        }
      ]
    },
    {
      "cell_type": "code",
      "source": [
        "# predict on a sample text with padding\n",
        "\n",
        "padding = \"the \" * 2000\n",
        "predictions = model.predict(np.array([sample_text, padding]))\n",
        "print(predictions[0])"
      ],
      "metadata": {
        "colab": {
          "base_uri": "https://localhost:8080/"
        },
        "id": "k61mofmJJnNH",
        "outputId": "92d3ec21-dec4-4654-a676-1a0b24cbb5d0"
      },
      "execution_count": null,
      "outputs": [
        {
          "output_type": "stream",
          "name": "stdout",
          "text": [
            "1/1 [==============================] - 0s 311ms/step\n",
            "[0.01302027]\n"
          ]
        }
      ]
    },
    {
      "cell_type": "code",
      "source": [
        "history = model.fit(train_dataset, epochs=10,  validation_data=test_dataset,validation_steps=30)"
      ],
      "metadata": {
        "colab": {
          "base_uri": "https://localhost:8080/"
        },
        "id": "nDmbxQuu_8So",
        "outputId": "86cab5b2-6372-4ac4-871c-034ec2e85d9a"
      },
      "execution_count": null,
      "outputs": [
        {
          "output_type": "stream",
          "name": "stdout",
          "text": [
            "Epoch 1/10\n",
            "215/391 [===============>..............] - ETA: 2:55 - loss: 0.6922 - accuracy: 0.5029"
          ]
        }
      ]
    },
    {
      "cell_type": "markdown",
      "source": [
        "## 공식 튜토리얼에서는 bidirectional RNN 썼습니다."
      ],
      "metadata": {
        "id": "BwG6MJxGy1pT"
      }
    },
    {
      "cell_type": "markdown",
      "source": [
        "![image.png](data:image/png;base64,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)"
      ],
      "metadata": {
        "id": "IIWOglfMybDG"
      }
    },
    {
      "cell_type": "code",
      "source": [
        "model = tf.keras.Sequential([\n",
        "    encoder,\n",
        "    tf.keras.layers.Embedding(\n",
        "        input_dim=len(encoder.get_vocabulary()),\n",
        "        output_dim=64,\n",
        "        # Use masking to handle the variable sequence lengths\n",
        "        mask_zero=True),\n",
        "    tf.keras.layers.Bidirectional(tf.keras.layers.LSTM(64)),\n",
        "    tf.keras.layers.Dense(64, activation='relu'),\n",
        "    tf.keras.layers.Dense(1)\n",
        "])"
      ],
      "metadata": {
        "id": "AI48Ysixybr_"
      },
      "execution_count": null,
      "outputs": []
    },
    {
      "cell_type": "markdown",
      "source": [
        "# 2.many2many"
      ],
      "metadata": {
        "id": "LNMLAScNT5Lc"
      }
    },
    {
      "cell_type": "markdown",
      "source": [
        "본 예제는 https://wikidocs.net/24996 를 따랐습니다.\n",
        "\n",
        "설명....할 시간이 없을 것 같네요\n",
        "\n",
        "링크에 설명이 잘 나와있으니 만약에 시간이 남아서 이 부분도 수업시간에 다루게 되면 보면서 설명할게요!"
      ],
      "metadata": {
        "id": "Qke_iF1zwi6c"
      }
    },
    {
      "cell_type": "code",
      "source": [
        "import os\n",
        "import shutil\n",
        "import zipfile\n",
        "\n",
        "import pandas as pd\n",
        "import tensorflow as tf\n",
        "import urllib3\n",
        "from tensorflow.keras.preprocessing.sequence import pad_sequences\n",
        "from tensorflow.keras.utils import to_categorical"
      ],
      "metadata": {
        "id": "JvFkAormUBvR"
      },
      "execution_count": 1,
      "outputs": []
    },
    {
      "cell_type": "code",
      "source": [
        "http = urllib3.PoolManager()\n",
        "url ='http://www.manythings.org/anki/fra-eng.zip'\n",
        "filename = 'fra-eng.zip'\n",
        "path = os.getcwd()\n",
        "zipfilename = os.path.join(path, filename)\n",
        "with http.request('GET', url, preload_content=False) as r, open(zipfilename, 'wb') as out_file:\n",
        "    shutil.copyfileobj(r, out_file)\n",
        "\n",
        "with zipfile.ZipFile(zipfilename, 'r') as zip_ref:\n",
        "    zip_ref.extractall(path)"
      ],
      "metadata": {
        "id": "6H3RIjarUE0-",
        "colab": {
          "base_uri": "https://localhost:8080/",
          "height": 372
        },
        "outputId": "d741d73a-da18-4e64-b497-f460094cadad"
      },
      "execution_count": 2,
      "outputs": [
        {
          "output_type": "error",
          "ename": "BadZipFile",
          "evalue": "ignored",
          "traceback": [
            "\u001b[0;31m---------------------------------------------------------------------------\u001b[0m",
            "\u001b[0;31mBadZipFile\u001b[0m                                Traceback (most recent call last)",
            "\u001b[0;32m<ipython-input-2-3f8f5b8ff3f2>\u001b[0m in \u001b[0;36m<cell line: 9>\u001b[0;34m()\u001b[0m\n\u001b[1;32m      7\u001b[0m     \u001b[0mshutil\u001b[0m\u001b[0;34m.\u001b[0m\u001b[0mcopyfileobj\u001b[0m\u001b[0;34m(\u001b[0m\u001b[0mr\u001b[0m\u001b[0;34m,\u001b[0m \u001b[0mout_file\u001b[0m\u001b[0;34m)\u001b[0m\u001b[0;34m\u001b[0m\u001b[0;34m\u001b[0m\u001b[0m\n\u001b[1;32m      8\u001b[0m \u001b[0;34m\u001b[0m\u001b[0m\n\u001b[0;32m----> 9\u001b[0;31m \u001b[0;32mwith\u001b[0m \u001b[0mzipfile\u001b[0m\u001b[0;34m.\u001b[0m\u001b[0mZipFile\u001b[0m\u001b[0;34m(\u001b[0m\u001b[0mzipfilename\u001b[0m\u001b[0;34m,\u001b[0m \u001b[0;34m'r'\u001b[0m\u001b[0;34m)\u001b[0m \u001b[0;32mas\u001b[0m \u001b[0mzip_ref\u001b[0m\u001b[0;34m:\u001b[0m\u001b[0;34m\u001b[0m\u001b[0;34m\u001b[0m\u001b[0m\n\u001b[0m\u001b[1;32m     10\u001b[0m     \u001b[0mzip_ref\u001b[0m\u001b[0;34m.\u001b[0m\u001b[0mextractall\u001b[0m\u001b[0;34m(\u001b[0m\u001b[0mpath\u001b[0m\u001b[0;34m)\u001b[0m\u001b[0;34m\u001b[0m\u001b[0;34m\u001b[0m\u001b[0m\n",
            "\u001b[0;32m/usr/lib/python3.10/zipfile.py\u001b[0m in \u001b[0;36m__init__\u001b[0;34m(self, file, mode, compression, allowZip64, compresslevel, strict_timestamps)\u001b[0m\n\u001b[1;32m   1267\u001b[0m         \u001b[0;32mtry\u001b[0m\u001b[0;34m:\u001b[0m\u001b[0;34m\u001b[0m\u001b[0;34m\u001b[0m\u001b[0m\n\u001b[1;32m   1268\u001b[0m             \u001b[0;32mif\u001b[0m \u001b[0mmode\u001b[0m \u001b[0;34m==\u001b[0m \u001b[0;34m'r'\u001b[0m\u001b[0;34m:\u001b[0m\u001b[0;34m\u001b[0m\u001b[0;34m\u001b[0m\u001b[0m\n\u001b[0;32m-> 1269\u001b[0;31m                 \u001b[0mself\u001b[0m\u001b[0;34m.\u001b[0m\u001b[0m_RealGetContents\u001b[0m\u001b[0;34m(\u001b[0m\u001b[0;34m)\u001b[0m\u001b[0;34m\u001b[0m\u001b[0;34m\u001b[0m\u001b[0m\n\u001b[0m\u001b[1;32m   1270\u001b[0m             \u001b[0;32melif\u001b[0m \u001b[0mmode\u001b[0m \u001b[0;32min\u001b[0m \u001b[0;34m(\u001b[0m\u001b[0;34m'w'\u001b[0m\u001b[0;34m,\u001b[0m \u001b[0;34m'x'\u001b[0m\u001b[0;34m)\u001b[0m\u001b[0;34m:\u001b[0m\u001b[0;34m\u001b[0m\u001b[0;34m\u001b[0m\u001b[0m\n\u001b[1;32m   1271\u001b[0m                 \u001b[0;31m# set the modified flag so central directory gets written\u001b[0m\u001b[0;34m\u001b[0m\u001b[0;34m\u001b[0m\u001b[0m\n",
            "\u001b[0;32m/usr/lib/python3.10/zipfile.py\u001b[0m in \u001b[0;36m_RealGetContents\u001b[0;34m(self)\u001b[0m\n\u001b[1;32m   1334\u001b[0m             \u001b[0;32mraise\u001b[0m \u001b[0mBadZipFile\u001b[0m\u001b[0;34m(\u001b[0m\u001b[0;34m\"File is not a zip file\"\u001b[0m\u001b[0;34m)\u001b[0m\u001b[0;34m\u001b[0m\u001b[0;34m\u001b[0m\u001b[0m\n\u001b[1;32m   1335\u001b[0m         \u001b[0;32mif\u001b[0m \u001b[0;32mnot\u001b[0m \u001b[0mendrec\u001b[0m\u001b[0;34m:\u001b[0m\u001b[0;34m\u001b[0m\u001b[0;34m\u001b[0m\u001b[0m\n\u001b[0;32m-> 1336\u001b[0;31m             \u001b[0;32mraise\u001b[0m \u001b[0mBadZipFile\u001b[0m\u001b[0;34m(\u001b[0m\u001b[0;34m\"File is not a zip file\"\u001b[0m\u001b[0;34m)\u001b[0m\u001b[0;34m\u001b[0m\u001b[0;34m\u001b[0m\u001b[0m\n\u001b[0m\u001b[1;32m   1337\u001b[0m         \u001b[0;32mif\u001b[0m \u001b[0mself\u001b[0m\u001b[0;34m.\u001b[0m\u001b[0mdebug\u001b[0m \u001b[0;34m>\u001b[0m \u001b[0;36m1\u001b[0m\u001b[0;34m:\u001b[0m\u001b[0;34m\u001b[0m\u001b[0;34m\u001b[0m\u001b[0m\n\u001b[1;32m   1338\u001b[0m             \u001b[0mprint\u001b[0m\u001b[0;34m(\u001b[0m\u001b[0mendrec\u001b[0m\u001b[0;34m)\u001b[0m\u001b[0;34m\u001b[0m\u001b[0;34m\u001b[0m\u001b[0m\n",
            "\u001b[0;31mBadZipFile\u001b[0m: File is not a zip file"
          ]
        }
      ]
    },
    {
      "cell_type": "code",
      "source": [
        "lines = pd.read_csv('fra.txt', names=['src', 'tar', 'lic'], sep='\\t')\n",
        "del lines['lic']\n",
        "print('전체 샘플의 개수 :',len(lines))"
      ],
      "metadata": {
        "colab": {
          "base_uri": "https://localhost:8080/"
        },
        "id": "KXJKxVxYUFZM",
        "outputId": "67899c1f-5170-47fb-fdf7-a90b3d192f35"
      },
      "execution_count": null,
      "outputs": [
        {
          "output_type": "stream",
          "name": "stdout",
          "text": [
            "전체 샘플의 개수 : 197463\n"
          ]
        }
      ]
    },
    {
      "cell_type": "code",
      "source": [
        "lines = lines.loc[:, 'src':'tar']\n",
        "lines = lines[0:60000] # 6만개만 저장\n",
        "lines.sample(10)"
      ],
      "metadata": {
        "colab": {
          "base_uri": "https://localhost:8080/",
          "height": 363
        },
        "id": "M_8HFLfWULNu",
        "outputId": "af789928-ff61-4d48-b8d9-950ef76636a3"
      },
      "execution_count": null,
      "outputs": [
        {
          "output_type": "execute_result",
          "data": {
            "text/plain": [
              "                           src                                tar\n",
              "43001    I sometimes watch TV.  Je regarde parfois la télévision.\n",
              "55784  He has gone to Britain.   Il est parti en Grande-Bretagne.\n",
              "24728       I'm aware of that.              J'en suis consciente.\n",
              "46894    Who is he talking to?                 À qui parle-t-il ?\n",
              "34100      You're out of luck.             Ta chance est épuisée.\n",
              "29275      He's already a man.               C'est déjà un homme.\n",
              "22010        Who's my teacher?           Qui est ma professeure ?\n",
              "25066       It was a bad idea.          Ce fut une mauvaise idée.\n",
              "14403         I often do that.               Je le fais beaucoup.\n",
              "19953        Let's take a cab.                   Prenons un taxi."
            ],
            "text/html": [
              "\n",
              "  <div id=\"df-1442b7a5-c2d5-4ede-81f4-b3488f903cbf\">\n",
              "    <div class=\"colab-df-container\">\n",
              "      <div>\n",
              "<style scoped>\n",
              "    .dataframe tbody tr th:only-of-type {\n",
              "        vertical-align: middle;\n",
              "    }\n",
              "\n",
              "    .dataframe tbody tr th {\n",
              "        vertical-align: top;\n",
              "    }\n",
              "\n",
              "    .dataframe thead th {\n",
              "        text-align: right;\n",
              "    }\n",
              "</style>\n",
              "<table border=\"1\" class=\"dataframe\">\n",
              "  <thead>\n",
              "    <tr style=\"text-align: right;\">\n",
              "      <th></th>\n",
              "      <th>src</th>\n",
              "      <th>tar</th>\n",
              "    </tr>\n",
              "  </thead>\n",
              "  <tbody>\n",
              "    <tr>\n",
              "      <th>43001</th>\n",
              "      <td>I sometimes watch TV.</td>\n",
              "      <td>Je regarde parfois la télévision.</td>\n",
              "    </tr>\n",
              "    <tr>\n",
              "      <th>55784</th>\n",
              "      <td>He has gone to Britain.</td>\n",
              "      <td>Il est parti en Grande-Bretagne.</td>\n",
              "    </tr>\n",
              "    <tr>\n",
              "      <th>24728</th>\n",
              "      <td>I'm aware of that.</td>\n",
              "      <td>J'en suis consciente.</td>\n",
              "    </tr>\n",
              "    <tr>\n",
              "      <th>46894</th>\n",
              "      <td>Who is he talking to?</td>\n",
              "      <td>À qui parle-t-il ?</td>\n",
              "    </tr>\n",
              "    <tr>\n",
              "      <th>34100</th>\n",
              "      <td>You're out of luck.</td>\n",
              "      <td>Ta chance est épuisée.</td>\n",
              "    </tr>\n",
              "    <tr>\n",
              "      <th>29275</th>\n",
              "      <td>He's already a man.</td>\n",
              "      <td>C'est déjà un homme.</td>\n",
              "    </tr>\n",
              "    <tr>\n",
              "      <th>22010</th>\n",
              "      <td>Who's my teacher?</td>\n",
              "      <td>Qui est ma professeure ?</td>\n",
              "    </tr>\n",
              "    <tr>\n",
              "      <th>25066</th>\n",
              "      <td>It was a bad idea.</td>\n",
              "      <td>Ce fut une mauvaise idée.</td>\n",
              "    </tr>\n",
              "    <tr>\n",
              "      <th>14403</th>\n",
              "      <td>I often do that.</td>\n",
              "      <td>Je le fais beaucoup.</td>\n",
              "    </tr>\n",
              "    <tr>\n",
              "      <th>19953</th>\n",
              "      <td>Let's take a cab.</td>\n",
              "      <td>Prenons un taxi.</td>\n",
              "    </tr>\n",
              "  </tbody>\n",
              "</table>\n",
              "</div>\n",
              "      <button class=\"colab-df-convert\" onclick=\"convertToInteractive('df-1442b7a5-c2d5-4ede-81f4-b3488f903cbf')\"\n",
              "              title=\"Convert this dataframe to an interactive table.\"\n",
              "              style=\"display:none;\">\n",
              "        \n",
              "  <svg xmlns=\"http://www.w3.org/2000/svg\" height=\"24px\"viewBox=\"0 0 24 24\"\n",
              "       width=\"24px\">\n",
              "    <path d=\"M0 0h24v24H0V0z\" fill=\"none\"/>\n",
              "    <path d=\"M18.56 5.44l.94 2.06.94-2.06 2.06-.94-2.06-.94-.94-2.06-.94 2.06-2.06.94zm-11 1L8.5 8.5l.94-2.06 2.06-.94-2.06-.94L8.5 2.5l-.94 2.06-2.06.94zm10 10l.94 2.06.94-2.06 2.06-.94-2.06-.94-.94-2.06-.94 2.06-2.06.94z\"/><path d=\"M17.41 7.96l-1.37-1.37c-.4-.4-.92-.59-1.43-.59-.52 0-1.04.2-1.43.59L10.3 9.45l-7.72 7.72c-.78.78-.78 2.05 0 2.83L4 21.41c.39.39.9.59 1.41.59.51 0 1.02-.2 1.41-.59l7.78-7.78 2.81-2.81c.8-.78.8-2.07 0-2.86zM5.41 20L4 18.59l7.72-7.72 1.47 1.35L5.41 20z\"/>\n",
              "  </svg>\n",
              "      </button>\n",
              "      \n",
              "  <style>\n",
              "    .colab-df-container {\n",
              "      display:flex;\n",
              "      flex-wrap:wrap;\n",
              "      gap: 12px;\n",
              "    }\n",
              "\n",
              "    .colab-df-convert {\n",
              "      background-color: #E8F0FE;\n",
              "      border: none;\n",
              "      border-radius: 50%;\n",
              "      cursor: pointer;\n",
              "      display: none;\n",
              "      fill: #1967D2;\n",
              "      height: 32px;\n",
              "      padding: 0 0 0 0;\n",
              "      width: 32px;\n",
              "    }\n",
              "\n",
              "    .colab-df-convert:hover {\n",
              "      background-color: #E2EBFA;\n",
              "      box-shadow: 0px 1px 2px rgba(60, 64, 67, 0.3), 0px 1px 3px 1px rgba(60, 64, 67, 0.15);\n",
              "      fill: #174EA6;\n",
              "    }\n",
              "\n",
              "    [theme=dark] .colab-df-convert {\n",
              "      background-color: #3B4455;\n",
              "      fill: #D2E3FC;\n",
              "    }\n",
              "\n",
              "    [theme=dark] .colab-df-convert:hover {\n",
              "      background-color: #434B5C;\n",
              "      box-shadow: 0px 1px 3px 1px rgba(0, 0, 0, 0.15);\n",
              "      filter: drop-shadow(0px 1px 2px rgba(0, 0, 0, 0.3));\n",
              "      fill: #FFFFFF;\n",
              "    }\n",
              "  </style>\n",
              "\n",
              "      <script>\n",
              "        const buttonEl =\n",
              "          document.querySelector('#df-1442b7a5-c2d5-4ede-81f4-b3488f903cbf button.colab-df-convert');\n",
              "        buttonEl.style.display =\n",
              "          google.colab.kernel.accessAllowed ? 'block' : 'none';\n",
              "\n",
              "        async function convertToInteractive(key) {\n",
              "          const element = document.querySelector('#df-1442b7a5-c2d5-4ede-81f4-b3488f903cbf');\n",
              "          const dataTable =\n",
              "            await google.colab.kernel.invokeFunction('convertToInteractive',\n",
              "                                                     [key], {});\n",
              "          if (!dataTable) return;\n",
              "\n",
              "          const docLinkHtml = 'Like what you see? Visit the ' +\n",
              "            '<a target=\"_blank\" href=https://colab.research.google.com/notebooks/data_table.ipynb>data table notebook</a>'\n",
              "            + ' to learn more about interactive tables.';\n",
              "          element.innerHTML = '';\n",
              "          dataTable['output_type'] = 'display_data';\n",
              "          await google.colab.output.renderOutput(dataTable, element);\n",
              "          const docLink = document.createElement('div');\n",
              "          docLink.innerHTML = docLinkHtml;\n",
              "          element.appendChild(docLink);\n",
              "        }\n",
              "      </script>\n",
              "    </div>\n",
              "  </div>\n",
              "  "
            ]
          },
          "metadata": {},
          "execution_count": 156
        }
      ]
    },
    {
      "cell_type": "code",
      "source": [
        "lines.tar = lines.tar.apply(lambda x : '\\t '+ x + ' \\n')\n",
        "lines.sample(10)"
      ],
      "metadata": {
        "colab": {
          "base_uri": "https://localhost:8080/",
          "height": 363
        },
        "id": "64IM4-NsUQkV",
        "outputId": "a814d2f1-f464-4e95-e1b3-f85f4a279eab"
      },
      "execution_count": null,
      "outputs": [
        {
          "output_type": "execute_result",
          "data": {
            "text/plain": [
              "                         src                                     tar\n",
              "14680       I'll never tell.            \\t Je ne le dirai jamais. \\n\n",
              "21807      What do you like?                 \\t Qu'apprécies-tu ? \\n\n",
              "8754          Tie your shoe.                \\t Noue ta chaussure. \\n\n",
              "20927      This stopped Tom.                \\t Ceci a arrêté Tom. \\n\n",
              "14261       I like your dog.                 \\t J'aime ton chien. \\n\n",
              "15371       May I try it on?               \\t Puis-je l'essayer ? \\n\n",
              "44871  Something is missing.             \\t Quelque chose manque. \\n\n",
              "1938             I do worry.     \\t Je me fais vraiment du souci. \\n\n",
              "18017      Have you decided?                  \\t T'es-tu décidé ? \\n\n",
              "46367  We shouldn't do this.  \\t Nous ne devrions pas faire ceci. \\n"
            ],
            "text/html": [
              "\n",
              "  <div id=\"df-c1fb2064-6325-4f3e-9cef-6d5f0d4824bc\">\n",
              "    <div class=\"colab-df-container\">\n",
              "      <div>\n",
              "<style scoped>\n",
              "    .dataframe tbody tr th:only-of-type {\n",
              "        vertical-align: middle;\n",
              "    }\n",
              "\n",
              "    .dataframe tbody tr th {\n",
              "        vertical-align: top;\n",
              "    }\n",
              "\n",
              "    .dataframe thead th {\n",
              "        text-align: right;\n",
              "    }\n",
              "</style>\n",
              "<table border=\"1\" class=\"dataframe\">\n",
              "  <thead>\n",
              "    <tr style=\"text-align: right;\">\n",
              "      <th></th>\n",
              "      <th>src</th>\n",
              "      <th>tar</th>\n",
              "    </tr>\n",
              "  </thead>\n",
              "  <tbody>\n",
              "    <tr>\n",
              "      <th>14680</th>\n",
              "      <td>I'll never tell.</td>\n",
              "      <td>\\t Je ne le dirai jamais. \\n</td>\n",
              "    </tr>\n",
              "    <tr>\n",
              "      <th>21807</th>\n",
              "      <td>What do you like?</td>\n",
              "      <td>\\t Qu'apprécies-tu ? \\n</td>\n",
              "    </tr>\n",
              "    <tr>\n",
              "      <th>8754</th>\n",
              "      <td>Tie your shoe.</td>\n",
              "      <td>\\t Noue ta chaussure. \\n</td>\n",
              "    </tr>\n",
              "    <tr>\n",
              "      <th>20927</th>\n",
              "      <td>This stopped Tom.</td>\n",
              "      <td>\\t Ceci a arrêté Tom. \\n</td>\n",
              "    </tr>\n",
              "    <tr>\n",
              "      <th>14261</th>\n",
              "      <td>I like your dog.</td>\n",
              "      <td>\\t J'aime ton chien. \\n</td>\n",
              "    </tr>\n",
              "    <tr>\n",
              "      <th>15371</th>\n",
              "      <td>May I try it on?</td>\n",
              "      <td>\\t Puis-je l'essayer ? \\n</td>\n",
              "    </tr>\n",
              "    <tr>\n",
              "      <th>44871</th>\n",
              "      <td>Something is missing.</td>\n",
              "      <td>\\t Quelque chose manque. \\n</td>\n",
              "    </tr>\n",
              "    <tr>\n",
              "      <th>1938</th>\n",
              "      <td>I do worry.</td>\n",
              "      <td>\\t Je me fais vraiment du souci. \\n</td>\n",
              "    </tr>\n",
              "    <tr>\n",
              "      <th>18017</th>\n",
              "      <td>Have you decided?</td>\n",
              "      <td>\\t T'es-tu décidé ? \\n</td>\n",
              "    </tr>\n",
              "    <tr>\n",
              "      <th>46367</th>\n",
              "      <td>We shouldn't do this.</td>\n",
              "      <td>\\t Nous ne devrions pas faire ceci. \\n</td>\n",
              "    </tr>\n",
              "  </tbody>\n",
              "</table>\n",
              "</div>\n",
              "      <button class=\"colab-df-convert\" onclick=\"convertToInteractive('df-c1fb2064-6325-4f3e-9cef-6d5f0d4824bc')\"\n",
              "              title=\"Convert this dataframe to an interactive table.\"\n",
              "              style=\"display:none;\">\n",
              "        \n",
              "  <svg xmlns=\"http://www.w3.org/2000/svg\" height=\"24px\"viewBox=\"0 0 24 24\"\n",
              "       width=\"24px\">\n",
              "    <path d=\"M0 0h24v24H0V0z\" fill=\"none\"/>\n",
              "    <path d=\"M18.56 5.44l.94 2.06.94-2.06 2.06-.94-2.06-.94-.94-2.06-.94 2.06-2.06.94zm-11 1L8.5 8.5l.94-2.06 2.06-.94-2.06-.94L8.5 2.5l-.94 2.06-2.06.94zm10 10l.94 2.06.94-2.06 2.06-.94-2.06-.94-.94-2.06-.94 2.06-2.06.94z\"/><path d=\"M17.41 7.96l-1.37-1.37c-.4-.4-.92-.59-1.43-.59-.52 0-1.04.2-1.43.59L10.3 9.45l-7.72 7.72c-.78.78-.78 2.05 0 2.83L4 21.41c.39.39.9.59 1.41.59.51 0 1.02-.2 1.41-.59l7.78-7.78 2.81-2.81c.8-.78.8-2.07 0-2.86zM5.41 20L4 18.59l7.72-7.72 1.47 1.35L5.41 20z\"/>\n",
              "  </svg>\n",
              "      </button>\n",
              "      \n",
              "  <style>\n",
              "    .colab-df-container {\n",
              "      display:flex;\n",
              "      flex-wrap:wrap;\n",
              "      gap: 12px;\n",
              "    }\n",
              "\n",
              "    .colab-df-convert {\n",
              "      background-color: #E8F0FE;\n",
              "      border: none;\n",
              "      border-radius: 50%;\n",
              "      cursor: pointer;\n",
              "      display: none;\n",
              "      fill: #1967D2;\n",
              "      height: 32px;\n",
              "      padding: 0 0 0 0;\n",
              "      width: 32px;\n",
              "    }\n",
              "\n",
              "    .colab-df-convert:hover {\n",
              "      background-color: #E2EBFA;\n",
              "      box-shadow: 0px 1px 2px rgba(60, 64, 67, 0.3), 0px 1px 3px 1px rgba(60, 64, 67, 0.15);\n",
              "      fill: #174EA6;\n",
              "    }\n",
              "\n",
              "    [theme=dark] .colab-df-convert {\n",
              "      background-color: #3B4455;\n",
              "      fill: #D2E3FC;\n",
              "    }\n",
              "\n",
              "    [theme=dark] .colab-df-convert:hover {\n",
              "      background-color: #434B5C;\n",
              "      box-shadow: 0px 1px 3px 1px rgba(0, 0, 0, 0.15);\n",
              "      filter: drop-shadow(0px 1px 2px rgba(0, 0, 0, 0.3));\n",
              "      fill: #FFFFFF;\n",
              "    }\n",
              "  </style>\n",
              "\n",
              "      <script>\n",
              "        const buttonEl =\n",
              "          document.querySelector('#df-c1fb2064-6325-4f3e-9cef-6d5f0d4824bc button.colab-df-convert');\n",
              "        buttonEl.style.display =\n",
              "          google.colab.kernel.accessAllowed ? 'block' : 'none';\n",
              "\n",
              "        async function convertToInteractive(key) {\n",
              "          const element = document.querySelector('#df-c1fb2064-6325-4f3e-9cef-6d5f0d4824bc');\n",
              "          const dataTable =\n",
              "            await google.colab.kernel.invokeFunction('convertToInteractive',\n",
              "                                                     [key], {});\n",
              "          if (!dataTable) return;\n",
              "\n",
              "          const docLinkHtml = 'Like what you see? Visit the ' +\n",
              "            '<a target=\"_blank\" href=https://colab.research.google.com/notebooks/data_table.ipynb>data table notebook</a>'\n",
              "            + ' to learn more about interactive tables.';\n",
              "          element.innerHTML = '';\n",
              "          dataTable['output_type'] = 'display_data';\n",
              "          await google.colab.output.renderOutput(dataTable, element);\n",
              "          const docLink = document.createElement('div');\n",
              "          docLink.innerHTML = docLinkHtml;\n",
              "          element.appendChild(docLink);\n",
              "        }\n",
              "      </script>\n",
              "    </div>\n",
              "  </div>\n",
              "  "
            ]
          },
          "metadata": {},
          "execution_count": 157
        }
      ]
    },
    {
      "cell_type": "code",
      "source": [
        "# 문자 집합 구축\n",
        "src_vocab = set()\n",
        "for line in lines.src: # 1줄씩 읽음\n",
        "    for char in line: # 1개의 문자씩 읽음\n",
        "        src_vocab.add(char)\n",
        "\n",
        "tar_vocab = set()\n",
        "for line in lines.tar:\n",
        "    for char in line:\n",
        "        tar_vocab.add(char)"
      ],
      "metadata": {
        "id": "Av0NKL2PUTwU"
      },
      "execution_count": null,
      "outputs": []
    },
    {
      "cell_type": "code",
      "source": [
        "src_vocab_size = len(src_vocab)+1\n",
        "tar_vocab_size = len(tar_vocab)+1\n",
        "print('source 문장의 char 집합 :',src_vocab_size)\n",
        "print('target 문장의 char 집합 :',tar_vocab_size)"
      ],
      "metadata": {
        "colab": {
          "base_uri": "https://localhost:8080/"
        },
        "id": "ouuw_yFTUXsS",
        "outputId": "c9cdc422-cdcc-42cf-ffe7-e6a529b9703f"
      },
      "execution_count": null,
      "outputs": [
        {
          "output_type": "stream",
          "name": "stdout",
          "text": [
            "source 문장의 char 집합 : 79\n",
            "target 문장의 char 집합 : 105\n"
          ]
        }
      ]
    },
    {
      "cell_type": "markdown",
      "source": [
        "영어에 없는 프랑스어 list 에 index 주기"
      ],
      "metadata": {
        "id": "GseYsJtTUzog"
      }
    },
    {
      "cell_type": "code",
      "source": [
        "src_vocab = sorted(list(src_vocab))\n",
        "tar_vocab = sorted(list(tar_vocab))\n",
        "src_to_index = dict([(word, i+1) for i, word in enumerate(src_vocab)])\n",
        "tar_to_index = dict([(word, i+1) for i, word in enumerate(tar_vocab)])"
      ],
      "metadata": {
        "id": "-KMoPEeUUoum"
      },
      "execution_count": null,
      "outputs": []
    },
    {
      "cell_type": "code",
      "source": [
        "encoder_input = []\n",
        "\n",
        "# 1개의 문장\n",
        "for line in lines.src:\n",
        "  encoded_line = []\n",
        "  # 각 줄에서 1개의 char\n",
        "  for char in line:\n",
        "    # 각 char을 정수로 변환\n",
        "    encoded_line.append(src_to_index[char])\n",
        "  encoder_input.append(encoded_line)\n",
        "print('source 문장의 정수 인코딩 :',encoder_input[:5])"
      ],
      "metadata": {
        "colab": {
          "base_uri": "https://localhost:8080/"
        },
        "id": "2wiZ0dCjUqPm",
        "outputId": "2c5a463c-c9ae-4111-e31e-b8380f5c6a09"
      },
      "execution_count": null,
      "outputs": [
        {
          "output_type": "stream",
          "name": "stdout",
          "text": [
            "source 문장의 정수 인코딩 : [[30, 64, 10], [30, 64, 10], [30, 64, 10], [30, 64, 10], [31, 58, 10]]\n"
          ]
        }
      ]
    },
    {
      "cell_type": "code",
      "source": [
        "decoder_input = []\n",
        "for line in lines.tar:\n",
        "  encoded_line = []\n",
        "  for char in line:\n",
        "    encoded_line.append(tar_to_index[char])\n",
        "  decoder_input.append(encoded_line)\n",
        "print('target 문장의 정수 인코딩 :',decoder_input[:5])"
      ],
      "metadata": {
        "colab": {
          "base_uri": "https://localhost:8080/"
        },
        "id": "ZXdL-Fb-VBof",
        "outputId": "f398c2d8-d8ad-4dda-bb35-ae44ce68980d"
      },
      "execution_count": null,
      "outputs": [
        {
          "output_type": "stream",
          "name": "stdout",
          "text": [
            "target 문장의 정수 인코딩 : [[1, 3, 48, 53, 3, 4, 3, 2], [1, 3, 39, 53, 70, 55, 60, 57, 14, 3, 2], [1, 3, 31, 66, 3, 70, 67, 73, 72, 57, 3, 4, 3, 2], [1, 3, 28, 67, 73, 59, 57, 3, 4, 3, 2], [1, 3, 45, 53, 64, 73, 72, 3, 4, 3, 2]]\n"
          ]
        }
      ]
    },
    {
      "cell_type": "code",
      "source": [
        "decoder_target = []\n",
        "for line in lines.tar:\n",
        "  timestep = 0\n",
        "  encoded_line = []\n",
        "  for char in line:\n",
        "    if timestep > 0:\n",
        "      encoded_line.append(tar_to_index[char])\n",
        "    timestep = timestep + 1\n",
        "  decoder_target.append(encoded_line)\n",
        "print('target 문장 레이블의 정수 인코딩 :',decoder_target[:5])"
      ],
      "metadata": {
        "colab": {
          "base_uri": "https://localhost:8080/"
        },
        "id": "__f9LjbmVsQY",
        "outputId": "53f2fdf6-8251-4da2-e072-fa9652e77fa8"
      },
      "execution_count": null,
      "outputs": [
        {
          "output_type": "stream",
          "name": "stdout",
          "text": [
            "target 문장 레이블의 정수 인코딩 : [[3, 48, 53, 3, 4, 3, 2], [3, 39, 53, 70, 55, 60, 57, 14, 3, 2], [3, 31, 66, 3, 70, 67, 73, 72, 57, 3, 4, 3, 2], [3, 28, 67, 73, 59, 57, 3, 4, 3, 2], [3, 45, 53, 64, 73, 72, 3, 4, 3, 2]]\n"
          ]
        }
      ]
    },
    {
      "cell_type": "code",
      "source": [
        "max_src_len = max([len(line) for line in lines.src])\n",
        "max_tar_len = max([len(line) for line in lines.tar])\n",
        "print('source 문장의 최대 길이 :',max_src_len)\n",
        "print('target 문장의 최대 길이 :',max_tar_len)"
      ],
      "metadata": {
        "colab": {
          "base_uri": "https://localhost:8080/"
        },
        "id": "vHEgM_vhVi2O",
        "outputId": "749a8e39-f011-4246-8f81-8a9cf9a249e4"
      },
      "execution_count": null,
      "outputs": [
        {
          "output_type": "stream",
          "name": "stdout",
          "text": [
            "source 문장의 최대 길이 : 23\n",
            "target 문장의 최대 길이 : 76\n"
          ]
        }
      ]
    },
    {
      "cell_type": "code",
      "source": [
        "encoder_input = pad_sequences(encoder_input, maxlen=max_src_len, padding='post')\n",
        "decoder_input = pad_sequences(decoder_input, maxlen=max_tar_len, padding='post')\n",
        "decoder_target = pad_sequences(decoder_target, maxlen=max_tar_len, padding='post')\n",
        "encoder_input = to_categorical(encoder_input)\n",
        "decoder_input = to_categorical(decoder_input)\n",
        "decoder_target = to_categorical(decoder_target)"
      ],
      "metadata": {
        "id": "9HQi0c-QVDjm"
      },
      "execution_count": null,
      "outputs": []
    },
    {
      "cell_type": "code",
      "source": [
        "encoder_input.shape"
      ],
      "metadata": {
        "colab": {
          "base_uri": "https://localhost:8080/"
        },
        "id": "Tf9MkHw8KhiV",
        "outputId": "02567991-313c-42a3-d81c-c2e304628af6"
      },
      "execution_count": null,
      "outputs": [
        {
          "output_type": "execute_result",
          "data": {
            "text/plain": [
              "(60000, 23, 79)"
            ]
          },
          "metadata": {},
          "execution_count": 168
        }
      ]
    },
    {
      "cell_type": "code",
      "source": [
        "from tensorflow.keras.layers import Input, LSTM, Embedding, Dense\n",
        "from tensorflow.keras.models import Model\n",
        "import numpy as np\n",
        "\n",
        "encoder_inputs = Input(shape=(None, src_vocab_size))\n",
        "encoder_lstm = LSTM(units=256, return_state=True)\n",
        "\n",
        "# encoder_outputs은 여기서는 불필요\n",
        "encoder_outputs, state_h, state_c = encoder_lstm(encoder_inputs)\n",
        "\n",
        "# LSTM은 바닐라 RNN과는 달리 상태가 두 개. 은닉 상태와 셀 상태.\n",
        "encoder_states = [state_h, state_c]\n",
        "\n",
        "decoder_inputs = Input(shape=(None, tar_vocab_size))\n",
        "decoder_lstm = LSTM(units=256, return_sequences=True, return_state=True)\n",
        "\n",
        "# 디코더에게 인코더의 은닉 상태, 셀 상태를 전달.\n",
        "decoder_outputs, _, _= decoder_lstm(decoder_inputs, initial_state=encoder_states)\n",
        "\n",
        "decoder_softmax_layer = Dense(tar_vocab_size, activation='softmax')\n",
        "decoder_outputs = decoder_softmax_layer(decoder_outputs)\n",
        "\n",
        "model = Model([encoder_inputs, decoder_inputs], decoder_outputs)\n",
        "model.compile(optimizer=\"rmsprop\", loss=\"categorical_crossentropy\")\n",
        "\n",
        "model.summary()"
      ],
      "metadata": {
        "colab": {
          "base_uri": "https://localhost:8080/"
        },
        "id": "Hm60kerTVHtd",
        "outputId": "5147412a-4073-4039-bdb8-9f382ed57f82"
      },
      "execution_count": null,
      "outputs": [
        {
          "output_type": "stream",
          "name": "stdout",
          "text": [
            "Model: \"model\"\n",
            "__________________________________________________________________________________________________\n",
            " Layer (type)                   Output Shape         Param #     Connected to                     \n",
            "==================================================================================================\n",
            " input_1 (InputLayer)           [(None, None, 79)]   0           []                               \n",
            "                                                                                                  \n",
            " input_2 (InputLayer)           [(None, None, 105)]  0           []                               \n",
            "                                                                                                  \n",
            " lstm (LSTM)                    [(None, 256),        344064      ['input_1[0][0]']                \n",
            "                                 (None, 256),                                                     \n",
            "                                 (None, 256)]                                                     \n",
            "                                                                                                  \n",
            " lstm_1 (LSTM)                  [(None, None, 256),  370688      ['input_2[0][0]',                \n",
            "                                 (None, 256),                     'lstm[0][1]',                   \n",
            "                                 (None, 256)]                     'lstm[0][2]']                   \n",
            "                                                                                                  \n",
            " dense (Dense)                  (None, None, 105)    26985       ['lstm_1[0][0]']                 \n",
            "                                                                                                  \n",
            "==================================================================================================\n",
            "Total params: 741,737\n",
            "Trainable params: 741,737\n",
            "Non-trainable params: 0\n",
            "__________________________________________________________________________________________________\n"
          ]
        }
      ]
    },
    {
      "cell_type": "code",
      "source": [
        "# model.fit(x=[encoder_input, decoder_input], y=decoder_target, batch_size=64, epochs=40, validation_split=0.2)\n",
        "\n",
        "model.fit(x=[encoder_input, decoder_input], y=decoder_target, batch_size=64, epochs=1, validation_split=0.1)"
      ],
      "metadata": {
        "colab": {
          "base_uri": "https://localhost:8080/"
        },
        "id": "Q1_oveV8VU54",
        "outputId": "9efa16c0-dc10-46d2-f044-75ee51c3bf12"
      },
      "execution_count": null,
      "outputs": [
        {
          "output_type": "stream",
          "name": "stdout",
          "text": [
            "Epoch 1/40\n",
            "750/750 [==============================] - 430s 568ms/step - loss: 0.7362 - val_loss: 0.6710\n",
            "Epoch 2/40\n",
            "750/750 [==============================] - 457s 610ms/step - loss: 0.4573 - val_loss: 0.5367\n",
            "Epoch 3/40\n",
            "750/750 [==============================] - 465s 620ms/step - loss: 0.3816 - val_loss: 0.4733\n",
            "Epoch 4/40\n",
            "218/750 [=======>......................] - ETA: 5:17 - loss: 0.3489"
          ]
        }
      ]
    }
  ]
}