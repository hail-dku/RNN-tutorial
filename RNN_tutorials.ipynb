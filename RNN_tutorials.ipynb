{
 "cells": [
  {
   "cell_type": "markdown",
   "source": [
    "# RNN모델을 통한 주가 예측 예제"
   ],
   "metadata": {
    "collapsed": false
   }
  },
  {
   "cell_type": "code",
   "execution_count": 30,
   "outputs": [
    {
     "name": "stdout",
     "output_type": "stream",
     "text": [
      "Requirement already satisfied: torch in /Users/dongjaekim/miniforge3/lib/python3.10/site-packages (2.0.1)\r\n",
      "Requirement already satisfied: torchvision in /Users/dongjaekim/miniforge3/lib/python3.10/site-packages (0.15.2)\r\n",
      "Requirement already satisfied: torchaudio in /Users/dongjaekim/miniforge3/lib/python3.10/site-packages (2.0.2)\r\n",
      "Requirement already satisfied: typing-extensions in /Users/dongjaekim/miniforge3/lib/python3.10/site-packages (from torch) (4.7.1)\r\n",
      "Requirement already satisfied: jinja2 in /Users/dongjaekim/miniforge3/lib/python3.10/site-packages (from torch) (3.1.2)\r\n",
      "Requirement already satisfied: sympy in /Users/dongjaekim/miniforge3/lib/python3.10/site-packages (from torch) (1.12)\r\n",
      "Requirement already satisfied: filelock in /Users/dongjaekim/miniforge3/lib/python3.10/site-packages (from torch) (3.12.2)\r\n",
      "Requirement already satisfied: networkx in /Users/dongjaekim/miniforge3/lib/python3.10/site-packages (from torch) (3.1)\r\n",
      "Requirement already satisfied: numpy in /Users/dongjaekim/miniforge3/lib/python3.10/site-packages (from torchvision) (1.25.1)\r\n",
      "Requirement already satisfied: requests in /Users/dongjaekim/miniforge3/lib/python3.10/site-packages (from torchvision) (2.28.2)\r\n",
      "Requirement already satisfied: pillow!=8.3.*,>=5.3.0 in /Users/dongjaekim/miniforge3/lib/python3.10/site-packages (from torchvision) (10.0.0)\r\n",
      "Requirement already satisfied: MarkupSafe>=2.0 in /Users/dongjaekim/miniforge3/lib/python3.10/site-packages (from jinja2->torch) (2.1.3)\r\n",
      "Requirement already satisfied: charset-normalizer<4,>=2 in /Users/dongjaekim/miniforge3/lib/python3.10/site-packages (from requests->torchvision) (3.1.0)\r\n",
      "Requirement already satisfied: certifi>=2017.4.17 in /Users/dongjaekim/miniforge3/lib/python3.10/site-packages (from requests->torchvision) (2022.12.7)\r\n",
      "Requirement already satisfied: idna<4,>=2.5 in /Users/dongjaekim/miniforge3/lib/python3.10/site-packages (from requests->torchvision) (3.4)\r\n",
      "Requirement already satisfied: urllib3<1.27,>=1.21.1 in /Users/dongjaekim/miniforge3/lib/python3.10/site-packages (from requests->torchvision) (1.26.15)\r\n",
      "Requirement already satisfied: mpmath>=0.19 in /Users/dongjaekim/miniforge3/lib/python3.10/site-packages (from sympy->torch) (1.3.0)\r\n",
      "Requirement already satisfied: numpy in /Users/dongjaekim/miniforge3/lib/python3.10/site-packages (1.25.1)\r\n",
      "Requirement already satisfied: matplotlib in /Users/dongjaekim/miniforge3/lib/python3.10/site-packages (3.7.2)\r\n",
      "Requirement already satisfied: pandas in /Users/dongjaekim/miniforge3/lib/python3.10/site-packages (2.0.3)\r\n",
      "Requirement already satisfied: jupyter in /Users/dongjaekim/miniforge3/lib/python3.10/site-packages (1.0.0)\r\n",
      "Requirement already satisfied: packaging>=20.0 in /Users/dongjaekim/miniforge3/lib/python3.10/site-packages (from matplotlib) (23.1)\r\n",
      "Requirement already satisfied: kiwisolver>=1.0.1 in /Users/dongjaekim/miniforge3/lib/python3.10/site-packages (from matplotlib) (1.4.4)\r\n",
      "Requirement already satisfied: cycler>=0.10 in /Users/dongjaekim/miniforge3/lib/python3.10/site-packages (from matplotlib) (0.11.0)\r\n",
      "Requirement already satisfied: pillow>=6.2.0 in /Users/dongjaekim/miniforge3/lib/python3.10/site-packages (from matplotlib) (10.0.0)\r\n",
      "Requirement already satisfied: fonttools>=4.22.0 in /Users/dongjaekim/miniforge3/lib/python3.10/site-packages (from matplotlib) (4.41.0)\r\n",
      "Requirement already satisfied: contourpy>=1.0.1 in /Users/dongjaekim/miniforge3/lib/python3.10/site-packages (from matplotlib) (1.1.0)\r\n",
      "Requirement already satisfied: python-dateutil>=2.7 in /Users/dongjaekim/miniforge3/lib/python3.10/site-packages (from matplotlib) (2.8.2)\r\n",
      "Requirement already satisfied: pyparsing<3.1,>=2.3.1 in /Users/dongjaekim/miniforge3/lib/python3.10/site-packages (from matplotlib) (3.0.9)\r\n",
      "Requirement already satisfied: pytz>=2020.1 in /Users/dongjaekim/miniforge3/lib/python3.10/site-packages (from pandas) (2023.3)\r\n",
      "Requirement already satisfied: tzdata>=2022.1 in /Users/dongjaekim/miniforge3/lib/python3.10/site-packages (from pandas) (2023.3)\r\n",
      "Requirement already satisfied: qtconsole in /Users/dongjaekim/miniforge3/lib/python3.10/site-packages (from jupyter) (5.4.3)\r\n",
      "Requirement already satisfied: jupyter-console in /Users/dongjaekim/miniforge3/lib/python3.10/site-packages (from jupyter) (6.6.3)\r\n",
      "Requirement already satisfied: ipykernel in /Users/dongjaekim/miniforge3/lib/python3.10/site-packages (from jupyter) (6.24.0)\r\n",
      "Requirement already satisfied: nbconvert in /Users/dongjaekim/miniforge3/lib/python3.10/site-packages (from jupyter) (7.6.0)\r\n",
      "Requirement already satisfied: notebook in /Users/dongjaekim/miniforge3/lib/python3.10/site-packages (from jupyter) (6.5.4)\r\n",
      "Requirement already satisfied: ipywidgets in /Users/dongjaekim/miniforge3/lib/python3.10/site-packages (from jupyter) (8.0.7)\r\n",
      "Requirement already satisfied: six>=1.5 in /Users/dongjaekim/miniforge3/lib/python3.10/site-packages (from python-dateutil>=2.7->matplotlib) (1.16.0)\r\n",
      "Requirement already satisfied: comm>=0.1.1 in /Users/dongjaekim/miniforge3/lib/python3.10/site-packages (from ipykernel->jupyter) (0.1.3)\r\n",
      "Requirement already satisfied: traitlets>=5.4.0 in /Users/dongjaekim/miniforge3/lib/python3.10/site-packages (from ipykernel->jupyter) (5.9.0)\r\n",
      "Requirement already satisfied: tornado>=6.1 in /Users/dongjaekim/miniforge3/lib/python3.10/site-packages (from ipykernel->jupyter) (6.3.2)\r\n",
      "Requirement already satisfied: nest-asyncio in /Users/dongjaekim/miniforge3/lib/python3.10/site-packages (from ipykernel->jupyter) (1.5.6)\r\n",
      "Requirement already satisfied: appnope in /Users/dongjaekim/miniforge3/lib/python3.10/site-packages (from ipykernel->jupyter) (0.1.3)\r\n",
      "Requirement already satisfied: ipython>=7.23.1 in /Users/dongjaekim/miniforge3/lib/python3.10/site-packages (from ipykernel->jupyter) (8.14.0)\r\n",
      "Requirement already satisfied: jupyter-client>=6.1.12 in /Users/dongjaekim/miniforge3/lib/python3.10/site-packages (from ipykernel->jupyter) (8.3.0)\r\n",
      "Requirement already satisfied: jupyter-core!=5.0.*,>=4.12 in /Users/dongjaekim/miniforge3/lib/python3.10/site-packages (from ipykernel->jupyter) (5.3.1)\r\n",
      "Requirement already satisfied: matplotlib-inline>=0.1 in /Users/dongjaekim/miniforge3/lib/python3.10/site-packages (from ipykernel->jupyter) (0.1.6)\r\n",
      "Requirement already satisfied: psutil in /Users/dongjaekim/miniforge3/lib/python3.10/site-packages (from ipykernel->jupyter) (5.9.5)\r\n",
      "Requirement already satisfied: pyzmq>=20 in /Users/dongjaekim/miniforge3/lib/python3.10/site-packages (from ipykernel->jupyter) (25.1.0)\r\n",
      "Requirement already satisfied: debugpy>=1.6.5 in /Users/dongjaekim/miniforge3/lib/python3.10/site-packages (from ipykernel->jupyter) (1.6.7)\r\n",
      "Requirement already satisfied: jupyterlab-widgets~=3.0.7 in /Users/dongjaekim/miniforge3/lib/python3.10/site-packages (from ipywidgets->jupyter) (3.0.8)\r\n",
      "Requirement already satisfied: widgetsnbextension~=4.0.7 in /Users/dongjaekim/miniforge3/lib/python3.10/site-packages (from ipywidgets->jupyter) (4.0.8)\r\n",
      "Requirement already satisfied: pygments in /Users/dongjaekim/miniforge3/lib/python3.10/site-packages (from jupyter-console->jupyter) (2.15.1)\r\n",
      "Requirement already satisfied: prompt-toolkit>=3.0.30 in /Users/dongjaekim/miniforge3/lib/python3.10/site-packages (from jupyter-console->jupyter) (3.0.39)\r\n",
      "Requirement already satisfied: beautifulsoup4 in /Users/dongjaekim/miniforge3/lib/python3.10/site-packages (from nbconvert->jupyter) (4.12.2)\r\n",
      "Requirement already satisfied: tinycss2 in /Users/dongjaekim/miniforge3/lib/python3.10/site-packages (from nbconvert->jupyter) (1.2.1)\r\n",
      "Requirement already satisfied: jupyterlab-pygments in /Users/dongjaekim/miniforge3/lib/python3.10/site-packages (from nbconvert->jupyter) (0.2.2)\r\n",
      "Requirement already satisfied: bleach!=5.0.0 in /Users/dongjaekim/miniforge3/lib/python3.10/site-packages (from nbconvert->jupyter) (6.0.0)\r\n",
      "Requirement already satisfied: nbformat>=5.7 in /Users/dongjaekim/miniforge3/lib/python3.10/site-packages (from nbconvert->jupyter) (5.9.1)\r\n",
      "Requirement already satisfied: markupsafe>=2.0 in /Users/dongjaekim/miniforge3/lib/python3.10/site-packages (from nbconvert->jupyter) (2.1.3)\r\n",
      "Requirement already satisfied: defusedxml in /Users/dongjaekim/miniforge3/lib/python3.10/site-packages (from nbconvert->jupyter) (0.7.1)\r\n",
      "Requirement already satisfied: nbclient>=0.5.0 in /Users/dongjaekim/miniforge3/lib/python3.10/site-packages (from nbconvert->jupyter) (0.8.0)\r\n",
      "Requirement already satisfied: pandocfilters>=1.4.1 in /Users/dongjaekim/miniforge3/lib/python3.10/site-packages (from nbconvert->jupyter) (1.5.0)\r\n",
      "Requirement already satisfied: jinja2>=3.0 in /Users/dongjaekim/miniforge3/lib/python3.10/site-packages (from nbconvert->jupyter) (3.1.2)\r\n",
      "Requirement already satisfied: mistune<4,>=2.0.3 in /Users/dongjaekim/miniforge3/lib/python3.10/site-packages (from nbconvert->jupyter) (3.0.1)\r\n",
      "Requirement already satisfied: argon2-cffi in /Users/dongjaekim/miniforge3/lib/python3.10/site-packages (from notebook->jupyter) (21.3.0)\r\n",
      "Requirement already satisfied: nbclassic>=0.4.7 in /Users/dongjaekim/miniforge3/lib/python3.10/site-packages (from notebook->jupyter) (1.0.0)\r\n",
      "Requirement already satisfied: Send2Trash>=1.8.0 in /Users/dongjaekim/miniforge3/lib/python3.10/site-packages (from notebook->jupyter) (1.8.2)\r\n",
      "Requirement already satisfied: ipython-genutils in /Users/dongjaekim/miniforge3/lib/python3.10/site-packages (from notebook->jupyter) (0.2.0)\r\n",
      "Requirement already satisfied: terminado>=0.8.3 in /Users/dongjaekim/miniforge3/lib/python3.10/site-packages (from notebook->jupyter) (0.17.1)\r\n",
      "Requirement already satisfied: prometheus-client in /Users/dongjaekim/miniforge3/lib/python3.10/site-packages (from notebook->jupyter) (0.17.1)\r\n",
      "Requirement already satisfied: qtpy>=2.0.1 in /Users/dongjaekim/miniforge3/lib/python3.10/site-packages (from qtconsole->jupyter) (2.3.1)\r\n",
      "Requirement already satisfied: webencodings in /Users/dongjaekim/miniforge3/lib/python3.10/site-packages (from bleach!=5.0.0->nbconvert->jupyter) (0.5.1)\r\n",
      "Requirement already satisfied: stack-data in /Users/dongjaekim/miniforge3/lib/python3.10/site-packages (from ipython>=7.23.1->ipykernel->jupyter) (0.6.2)\r\n",
      "Requirement already satisfied: jedi>=0.16 in /Users/dongjaekim/miniforge3/lib/python3.10/site-packages (from ipython>=7.23.1->ipykernel->jupyter) (0.18.2)\r\n",
      "Requirement already satisfied: pexpect>4.3 in /Users/dongjaekim/miniforge3/lib/python3.10/site-packages (from ipython>=7.23.1->ipykernel->jupyter) (4.8.0)\r\n",
      "Requirement already satisfied: pickleshare in /Users/dongjaekim/miniforge3/lib/python3.10/site-packages (from ipython>=7.23.1->ipykernel->jupyter) (0.7.5)\r\n",
      "Requirement already satisfied: decorator in /Users/dongjaekim/miniforge3/lib/python3.10/site-packages (from ipython>=7.23.1->ipykernel->jupyter) (5.1.1)\r\n",
      "Requirement already satisfied: backcall in /Users/dongjaekim/miniforge3/lib/python3.10/site-packages (from ipython>=7.23.1->ipykernel->jupyter) (0.2.0)\r\n",
      "Requirement already satisfied: platformdirs>=2.5 in /Users/dongjaekim/miniforge3/lib/python3.10/site-packages (from jupyter-core!=5.0.*,>=4.12->ipykernel->jupyter) (3.9.1)\r\n",
      "Requirement already satisfied: notebook-shim>=0.2.3 in /Users/dongjaekim/miniforge3/lib/python3.10/site-packages (from nbclassic>=0.4.7->notebook->jupyter) (0.2.3)\r\n",
      "Requirement already satisfied: jupyter-server>=1.8 in /Users/dongjaekim/miniforge3/lib/python3.10/site-packages (from nbclassic>=0.4.7->notebook->jupyter) (2.7.0)\r\n",
      "Requirement already satisfied: fastjsonschema in /Users/dongjaekim/miniforge3/lib/python3.10/site-packages (from nbformat>=5.7->nbconvert->jupyter) (2.17.1)\r\n",
      "Requirement already satisfied: jsonschema>=2.6 in /Users/dongjaekim/miniforge3/lib/python3.10/site-packages (from nbformat>=5.7->nbconvert->jupyter) (4.18.3)\r\n",
      "Requirement already satisfied: wcwidth in /Users/dongjaekim/miniforge3/lib/python3.10/site-packages (from prompt-toolkit>=3.0.30->jupyter-console->jupyter) (0.2.6)\r\n",
      "Requirement already satisfied: ptyprocess in /Users/dongjaekim/miniforge3/lib/python3.10/site-packages (from terminado>=0.8.3->notebook->jupyter) (0.7.0)\r\n",
      "Requirement already satisfied: argon2-cffi-bindings in /Users/dongjaekim/miniforge3/lib/python3.10/site-packages (from argon2-cffi->notebook->jupyter) (21.2.0)\r\n",
      "Requirement already satisfied: soupsieve>1.2 in /Users/dongjaekim/miniforge3/lib/python3.10/site-packages (from beautifulsoup4->nbconvert->jupyter) (2.4.1)\r\n",
      "Requirement already satisfied: parso<0.9.0,>=0.8.0 in /Users/dongjaekim/miniforge3/lib/python3.10/site-packages (from jedi>=0.16->ipython>=7.23.1->ipykernel->jupyter) (0.8.3)\r\n",
      "Requirement already satisfied: referencing>=0.28.4 in /Users/dongjaekim/miniforge3/lib/python3.10/site-packages (from jsonschema>=2.6->nbformat>=5.7->nbconvert->jupyter) (0.29.1)\r\n",
      "Requirement already satisfied: jsonschema-specifications>=2023.03.6 in /Users/dongjaekim/miniforge3/lib/python3.10/site-packages (from jsonschema>=2.6->nbformat>=5.7->nbconvert->jupyter) (2023.6.1)\r\n",
      "Requirement already satisfied: rpds-py>=0.7.1 in /Users/dongjaekim/miniforge3/lib/python3.10/site-packages (from jsonschema>=2.6->nbformat>=5.7->nbconvert->jupyter) (0.8.10)\r\n",
      "Requirement already satisfied: attrs>=22.2.0 in /Users/dongjaekim/miniforge3/lib/python3.10/site-packages (from jsonschema>=2.6->nbformat>=5.7->nbconvert->jupyter) (23.1.0)\r\n",
      "Requirement already satisfied: overrides in /Users/dongjaekim/miniforge3/lib/python3.10/site-packages (from jupyter-server>=1.8->nbclassic>=0.4.7->notebook->jupyter) (7.3.1)\r\n",
      "Requirement already satisfied: websocket-client in /Users/dongjaekim/miniforge3/lib/python3.10/site-packages (from jupyter-server>=1.8->nbclassic>=0.4.7->notebook->jupyter) (1.6.1)\r\n",
      "Requirement already satisfied: jupyter-events>=0.6.0 in /Users/dongjaekim/miniforge3/lib/python3.10/site-packages (from jupyter-server>=1.8->nbclassic>=0.4.7->notebook->jupyter) (0.6.3)\r\n",
      "Requirement already satisfied: jupyter-server-terminals in /Users/dongjaekim/miniforge3/lib/python3.10/site-packages (from jupyter-server>=1.8->nbclassic>=0.4.7->notebook->jupyter) (0.4.4)\r\n",
      "Requirement already satisfied: anyio>=3.1.0 in /Users/dongjaekim/miniforge3/lib/python3.10/site-packages (from jupyter-server>=1.8->nbclassic>=0.4.7->notebook->jupyter) (3.7.1)\r\n",
      "Requirement already satisfied: cffi>=1.0.1 in /Users/dongjaekim/miniforge3/lib/python3.10/site-packages (from argon2-cffi-bindings->argon2-cffi->notebook->jupyter) (1.15.1)\r\n",
      "Requirement already satisfied: pure-eval in /Users/dongjaekim/miniforge3/lib/python3.10/site-packages (from stack-data->ipython>=7.23.1->ipykernel->jupyter) (0.2.2)\r\n",
      "Requirement already satisfied: asttokens>=2.1.0 in /Users/dongjaekim/miniforge3/lib/python3.10/site-packages (from stack-data->ipython>=7.23.1->ipykernel->jupyter) (2.2.1)\r\n",
      "Requirement already satisfied: executing>=1.2.0 in /Users/dongjaekim/miniforge3/lib/python3.10/site-packages (from stack-data->ipython>=7.23.1->ipykernel->jupyter) (1.2.0)\r\n",
      "Requirement already satisfied: sniffio>=1.1 in /Users/dongjaekim/miniforge3/lib/python3.10/site-packages (from anyio>=3.1.0->jupyter-server>=1.8->nbclassic>=0.4.7->notebook->jupyter) (1.3.0)\r\n",
      "Requirement already satisfied: idna>=2.8 in /Users/dongjaekim/miniforge3/lib/python3.10/site-packages (from anyio>=3.1.0->jupyter-server>=1.8->nbclassic>=0.4.7->notebook->jupyter) (3.4)\r\n",
      "Requirement already satisfied: exceptiongroup in /Users/dongjaekim/miniforge3/lib/python3.10/site-packages (from anyio>=3.1.0->jupyter-server>=1.8->nbclassic>=0.4.7->notebook->jupyter) (1.1.2)\r\n",
      "Requirement already satisfied: pycparser in /Users/dongjaekim/miniforge3/lib/python3.10/site-packages (from cffi>=1.0.1->argon2-cffi-bindings->argon2-cffi->notebook->jupyter) (2.21)\r\n",
      "Requirement already satisfied: pyyaml>=5.3 in /Users/dongjaekim/miniforge3/lib/python3.10/site-packages (from jupyter-events>=0.6.0->jupyter-server>=1.8->nbclassic>=0.4.7->notebook->jupyter) (6.0)\r\n",
      "Requirement already satisfied: python-json-logger>=2.0.4 in /Users/dongjaekim/miniforge3/lib/python3.10/site-packages (from jupyter-events>=0.6.0->jupyter-server>=1.8->nbclassic>=0.4.7->notebook->jupyter) (2.0.7)\r\n",
      "Requirement already satisfied: rfc3339-validator in /Users/dongjaekim/miniforge3/lib/python3.10/site-packages (from jupyter-events>=0.6.0->jupyter-server>=1.8->nbclassic>=0.4.7->notebook->jupyter) (0.1.4)\r\n",
      "Requirement already satisfied: rfc3986-validator>=0.1.1 in /Users/dongjaekim/miniforge3/lib/python3.10/site-packages (from jupyter-events>=0.6.0->jupyter-server>=1.8->nbclassic>=0.4.7->notebook->jupyter) (0.1.1)\r\n",
      "Requirement already satisfied: fqdn in /Users/dongjaekim/miniforge3/lib/python3.10/site-packages (from jsonschema>=2.6->nbformat>=5.7->nbconvert->jupyter) (1.5.1)\r\n",
      "Requirement already satisfied: webcolors>=1.11 in /Users/dongjaekim/miniforge3/lib/python3.10/site-packages (from jsonschema>=2.6->nbformat>=5.7->nbconvert->jupyter) (1.13)\r\n",
      "Requirement already satisfied: jsonpointer>1.13 in /Users/dongjaekim/miniforge3/lib/python3.10/site-packages (from jsonschema>=2.6->nbformat>=5.7->nbconvert->jupyter) (2.4)\r\n",
      "Requirement already satisfied: uri-template in /Users/dongjaekim/miniforge3/lib/python3.10/site-packages (from jsonschema>=2.6->nbformat>=5.7->nbconvert->jupyter) (1.3.0)\r\n",
      "Requirement already satisfied: isoduration in /Users/dongjaekim/miniforge3/lib/python3.10/site-packages (from jsonschema>=2.6->nbformat>=5.7->nbconvert->jupyter) (20.11.0)\r\n",
      "Requirement already satisfied: arrow>=0.15.0 in /Users/dongjaekim/miniforge3/lib/python3.10/site-packages (from isoduration->jsonschema>=2.6->nbformat>=5.7->nbconvert->jupyter) (1.2.3)\r\n"
     ]
    }
   ],
   "source": [
    "import torch\n",
    "import torch.nn as nn\n",
    "import yfinance as yf\n",
    "import pandas as pd\n",
    "from sklearn.preprocessing import MinMaxScaler\n",
    "import matplotlib.pyplot as plt\n",
    "import numpy as np\n",
    "\n",
    "# 데이터 다운로드\n",
    "data = yf.download('AAPL', '2018-1-1', '2023-1-1')\n",
    "df = data['Close'].values\n",
    "df = df.astype('float32')\n",
    "\n",
    "# 데이터 정규화\n",
    "scaler = MinMaxScaler(feature_range=(-1, 1))\n",
    "df = scaler.fit_transform(df.reshape(-1, 1))\n",
    "\n",
    "# 시퀀스 길이 및 예측할 미래 값 설정\n",
    "seq_length = 30\n",
    "future_pred = 30\n",
    "\n",
    "# 시퀀스 생성\n",
    "sequences = [([df[i+j] for j in range(seq_length)], [df[i+j+seq_length] for j in range(future_pred)]) for i in range(len(df)-seq_length-future_pred)]\n",
    "\n",
    "# 훈련 및 테스트 데이터 분할\n",
    "train_size = int(len(sequences) * 0.8)\n",
    "train_data = sequences[:train_size]\n",
    "test_data = sequences[train_size:]\n",
    "\n",
    "# 모델 생성\n",
    "class StockPredictor(nn.Module):\n",
    "    def __init__(self, n_features, n_hidden, seq_len, n_layers=2):\n",
    "        super(StockPredictor, self).__init__()\n",
    "        self.seq_len = seq_len\n",
    "        self.n_hidden = n_hidden\n",
    "        self.n_layers = n_layers\n",
    "\n",
    "        self.lstm = nn.LSTM(\n",
    "          input_size=n_features,\n",
    "          hidden_size=n_hidden,\n",
    "          num_layers=n_layers,\n",
    "          dropout=0.5\n",
    "        )\n",
    "\n",
    "        self.linear = nn.Linear(in_features=n_hidden, out_features=future_pred)\n",
    "\n",
    "    def reset_hidden_state(self):\n",
    "        self.hidden = (\n",
    "            torch.zeros(self.n_layers, 1, self.n_hidden),\n",
    "            torch.zeros(self.n_layers, 1, self.n_hidden)\n",
    "        )\n",
    "\n",
    "    def forward(self, sequences):\n",
    "        lstm_out, self.hidden = self.lstm(sequences.view(len(sequences), 1, -1), self.hidden)\n",
    "        last_time_step = lstm_out.view(self.seq_len, 1, self.n_hidden)[-1]\n",
    "        y_pred = self.linear(last_time_step)\n",
    "\n",
    "        return y_pred\n",
    "\n",
    "\n",
    "model = StockPredictor(1, 512, seq_length)\n",
    "loss_function = nn.MSELoss()\n",
    "optimizer = torch.optim.Adam(model.parameters(), lr=1e-3)\n",
    "\n",
    "# 훈련 루프\n",
    "epochs = 10\n",
    "\n",
    "for epoch in range(epochs):\n",
    "    for seq, labels in train_data:\n",
    "        optimizer.zero_grad()\n",
    "        model.reset_hidden_state()\n",
    "\n",
    "        seq = torch.FloatTensor(seq).view(seq_length, 1, 1)\n",
    "        labels = torch.FloatTensor(labels).view(future_pred)\n",
    "\n",
    "        y_pred = model(seq)\n",
    "\n",
    "        loss = loss_function(y_pred, labels)\n",
    "        loss.backward()\n",
    "        optimizer.step()\n",
    "\n",
    "    print(f'Epoch {epoch} Loss {loss.item()}')\n",
    "\n",
    "# 모델 평가\n",
    "model.eval()\n",
    "test_preds = []\n",
    "\n",
    "for seq, _ in test_data:\n",
    "    seq = torch.FloatTensor(seq).view(seq_length, 1, 1)\n",
    "    with torch.no_grad():\n",
    "        model.reset_hidden_state()\n",
    "        test_preds.append(model(seq).view(-1).tolist())\n",
    "\n",
    "\n"
   ],
   "metadata": {
    "collapsed": false,
    "ExecuteTime": {
     "start_time": "2023-07-17T21:18:54.265725Z",
     "end_time": "2023-07-17T21:18:57.273311Z"
    }
   }
  },
  {
   "cell_type": "code",
   "execution_count": 30,
   "outputs": [],
   "source": [
    "# 모델 평가\n",
    "model.eval()\n",
    "test_preds = []\n",
    "\n",
    "for seq, _ in test_data:\n",
    "    seq = torch.FloatTensor(seq).view(seq_length, 1, 1)\n",
    "    with torch.no_grad():\n",
    "        model.reset_hidden_state()\n",
    "        test_preds.append(model(seq).view(-1).tolist())"
   ],
   "metadata": {
    "collapsed": false,
    "ExecuteTime": {
     "start_time": "2023-07-17T21:18:57.275847Z",
     "end_time": "2023-07-17T21:18:57.277505Z"
    }
   }
  },
  {
   "cell_type": "code",
   "execution_count": 34,
   "outputs": [
    {
     "name": "stdout",
     "output_type": "stream",
     "text": [
      "RNN output shape: torch.Size([1, 200, 20])\n",
      "RNN hn shape: torch.Size([1, 1, 20])\n"
     ]
    }
   ],
   "source": [
    "# plot against original input\n",
    "plt.figure(figsize=(14, 7))\n",
    "plt.title('예측 결과')\n",
    "plt.xlabel('Days')\n",
    "plt.ylabel('Price')\n",
    "plt.plot(df, 'b')\n",
    "# plot test_preds\n",
    "plt.plot(np.arange(len(df)-future_pred, len(df), 1), np.array(test_preds), 'r')"
   ],
   "metadata": {
    "collapsed": false,
    "ExecuteTime": {
     "start_time": "2023-07-17T21:23:50.944020Z",
     "end_time": "2023-07-17T21:23:50.993689Z"
    }
   }
  },
  {
   "cell_type": "markdown",
   "source": [
    "---\n"
   ],
   "metadata": {
    "collapsed": false,
    "ExecuteTime": {
     "start_time": "2023-07-17T21:24:20.573349Z",
     "end_time": "2023-07-17T21:24:20.586714Z"
    }
   },
   "outputs": [
    {
     "data": {
      "text/plain": "tensor([[ 0.1184,  0.5487,  0.3543, -0.2683,  0.8106,  0.1308, -0.7525,  0.3996,\n          0.4866, -0.3970,  0.1684, -0.3137,  0.1926,  0.0098,  0.3533,  0.1244,\n         -0.5722, -0.0304,  0.0546, -0.7848]], grad_fn=<SliceBackward0>)"
     },
     "execution_count": 35,
     "metadata": {},
     "output_type": "execute_result"
    }
   ],
   "execution_count": 35
  },
  {
   "cell_type": "code",
   "execution_count": 40,
   "outputs": [
    {
     "data": {
      "text/plain": "tensor([ 0.1184,  0.5487,  0.3543, -0.2683,  0.8106,  0.1308, -0.7525,  0.3996,\n         0.4866, -0.3970,  0.1684, -0.3137,  0.1926,  0.0098,  0.3533,  0.1244,\n        -0.5722, -0.0304,  0.0546, -0.7848], grad_fn=<SqueezeBackward0>)"
     },
     "execution_count": 40,
     "metadata": {},
     "output_type": "execute_result"
    }
   ],
   "source": [
    "import yfinance as yf\n",
    "import pandas as pd\n",
    "import numpy as np\n",
    "import matplotlib.pyplot as plt\n",
    "from sklearn.preprocessing import MinMaxScaler\n",
    "import torch\n",
    "from torch import nn\n",
    "\n",
    "# Yahoo Finance에서 주식 데이터 다운로드\n",
    "df = yf.download('AAPL', start='2020-01-01', end='2023-01-01')\n",
    "df = df[['Close']]\n",
    "df = df.dropna()\n",
    "\n",
    "print(df.head())"
   ],
   "metadata": {
    "collapsed": false,
    "ExecuteTime": {
     "start_time": "2023-07-17T21:25:41.639778Z",
     "end_time": "2023-07-17T21:25:41.649636Z"
    }
   }
  },
  {
   "cell_type": "code",
   "execution_count": 41,
   "outputs": [
    {
     "data": {
      "text/plain": "tensor([ 0.1184,  0.5487,  0.3543, -0.2683,  0.8106,  0.1308, -0.7525,  0.3996,\n         0.4866, -0.3970,  0.1684, -0.3137,  0.1926,  0.0098,  0.3533,  0.1244,\n        -0.5722, -0.0304,  0.0546, -0.7848], grad_fn=<SqueezeBackward0>)"
     },
     "execution_count": 41,
     "metadata": {},
     "output_type": "execute_result"
    }
   ],
   "source": [
    "%matplotlib inline\n",
    "\n",
    "plt.figure(figsize=(14,6))\n",
    "plt.title('Apple Stock Prices')\n",
    "plt.xlabel('Dates')\n",
    "plt.ylabel('Prices')\n",
    "plt.plot(df['Close'])\n",
    "plt.show()"
   ],
   "metadata": {
    "collapsed": false,
    "ExecuteTime": {
     "start_time": "2023-07-17T21:25:43.483186Z",
     "end_time": "2023-07-17T21:25:43.516604Z"
    }
   }
  },
  {
   "cell_type": "code",
   "execution_count": 32,
   "outputs": [
    {
     "name": "stderr",
     "output_type": "stream",
     "text": [
      "/Users/dongjaekim/miniforge3/lib/python3.10/site-packages/torch/nn/modules/rnn.py:71: UserWarning: dropout option adds dropout after all but last recurrent layer, so non-zero dropout expects num_layers greater than 1, but got dropout=0.5 and num_layers=1\n",
      "  warnings.warn(\"dropout option adds dropout after all but last \"\n"
     ]
    },
    {
     "ename": "KeyError",
     "evalue": "0",
     "output_type": "error",
     "traceback": [
      "\u001B[0;31m---------------------------------------------------------------------------\u001B[0m",
      "\u001B[0;31mKeyError\u001B[0m                                  Traceback (most recent call last)",
      "File \u001B[0;32m~/miniforge3/lib/python3.10/site-packages/pandas/core/indexes/base.py:3653\u001B[0m, in \u001B[0;36mIndex.get_loc\u001B[0;34m(self, key)\u001B[0m\n\u001B[1;32m   3652\u001B[0m \u001B[38;5;28;01mtry\u001B[39;00m:\n\u001B[0;32m-> 3653\u001B[0m     \u001B[38;5;28;01mreturn\u001B[39;00m \u001B[38;5;28;43mself\u001B[39;49m\u001B[38;5;241;43m.\u001B[39;49m\u001B[43m_engine\u001B[49m\u001B[38;5;241;43m.\u001B[39;49m\u001B[43mget_loc\u001B[49m\u001B[43m(\u001B[49m\u001B[43mcasted_key\u001B[49m\u001B[43m)\u001B[49m\n\u001B[1;32m   3654\u001B[0m \u001B[38;5;28;01mexcept\u001B[39;00m \u001B[38;5;167;01mKeyError\u001B[39;00m \u001B[38;5;28;01mas\u001B[39;00m err:\n",
      "File \u001B[0;32m~/miniforge3/lib/python3.10/site-packages/pandas/_libs/index.pyx:147\u001B[0m, in \u001B[0;36mpandas._libs.index.IndexEngine.get_loc\u001B[0;34m()\u001B[0m\n",
      "File \u001B[0;32m~/miniforge3/lib/python3.10/site-packages/pandas/_libs/index.pyx:176\u001B[0m, in \u001B[0;36mpandas._libs.index.IndexEngine.get_loc\u001B[0;34m()\u001B[0m\n",
      "File \u001B[0;32mpandas/_libs/hashtable_class_helper.pxi:7080\u001B[0m, in \u001B[0;36mpandas._libs.hashtable.PyObjectHashTable.get_item\u001B[0;34m()\u001B[0m\n",
      "File \u001B[0;32mpandas/_libs/hashtable_class_helper.pxi:7088\u001B[0m, in \u001B[0;36mpandas._libs.hashtable.PyObjectHashTable.get_item\u001B[0;34m()\u001B[0m\n",
      "\u001B[0;31mKeyError\u001B[0m: 0",
      "\nThe above exception was the direct cause of the following exception:\n",
      "\u001B[0;31mKeyError\u001B[0m                                  Traceback (most recent call last)",
      "Cell \u001B[0;32mIn[32], line 62\u001B[0m\n\u001B[1;32m     60\u001B[0m seq_length \u001B[38;5;241m=\u001B[39m \u001B[38;5;241m30\u001B[39m\n\u001B[1;32m     61\u001B[0m future_pred \u001B[38;5;241m=\u001B[39m \u001B[38;5;241m30\u001B[39m\n\u001B[0;32m---> 62\u001B[0m sequences \u001B[38;5;241m=\u001B[39m [([df[i\u001B[38;5;241m+\u001B[39mj] \u001B[38;5;28;01mfor\u001B[39;00m j \u001B[38;5;129;01min\u001B[39;00m \u001B[38;5;28mrange\u001B[39m(seq_length)], [df[i\u001B[38;5;241m+\u001B[39mj\u001B[38;5;241m+\u001B[39mseq_length] \u001B[38;5;28;01mfor\u001B[39;00m j \u001B[38;5;129;01min\u001B[39;00m \u001B[38;5;28mrange\u001B[39m(future_pred)]) \u001B[38;5;28;01mfor\u001B[39;00m i \u001B[38;5;129;01min\u001B[39;00m \u001B[38;5;28mrange\u001B[39m(\u001B[38;5;28mlen\u001B[39m(df)\u001B[38;5;241m-\u001B[39mseq_length\u001B[38;5;241m-\u001B[39mfuture_pred)]\n\u001B[1;32m     64\u001B[0m train_size \u001B[38;5;241m=\u001B[39m \u001B[38;5;28mint\u001B[39m(\u001B[38;5;28mlen\u001B[39m(sequences) \u001B[38;5;241m*\u001B[39m \u001B[38;5;241m0.8\u001B[39m)\n\u001B[1;32m     65\u001B[0m train_data \u001B[38;5;241m=\u001B[39m sequences[:train_size]\n",
      "Cell \u001B[0;32mIn[32], line 62\u001B[0m, in \u001B[0;36m<listcomp>\u001B[0;34m(.0)\u001B[0m\n\u001B[1;32m     60\u001B[0m seq_length \u001B[38;5;241m=\u001B[39m \u001B[38;5;241m30\u001B[39m\n\u001B[1;32m     61\u001B[0m future_pred \u001B[38;5;241m=\u001B[39m \u001B[38;5;241m30\u001B[39m\n\u001B[0;32m---> 62\u001B[0m sequences \u001B[38;5;241m=\u001B[39m [([df[i\u001B[38;5;241m+\u001B[39mj] \u001B[38;5;28;01mfor\u001B[39;00m j \u001B[38;5;129;01min\u001B[39;00m \u001B[38;5;28mrange\u001B[39m(seq_length)], [df[i\u001B[38;5;241m+\u001B[39mj\u001B[38;5;241m+\u001B[39mseq_length] \u001B[38;5;28;01mfor\u001B[39;00m j \u001B[38;5;129;01min\u001B[39;00m \u001B[38;5;28mrange\u001B[39m(future_pred)]) \u001B[38;5;28;01mfor\u001B[39;00m i \u001B[38;5;129;01min\u001B[39;00m \u001B[38;5;28mrange\u001B[39m(\u001B[38;5;28mlen\u001B[39m(df)\u001B[38;5;241m-\u001B[39mseq_length\u001B[38;5;241m-\u001B[39mfuture_pred)]\n\u001B[1;32m     64\u001B[0m train_size \u001B[38;5;241m=\u001B[39m \u001B[38;5;28mint\u001B[39m(\u001B[38;5;28mlen\u001B[39m(sequences) \u001B[38;5;241m*\u001B[39m \u001B[38;5;241m0.8\u001B[39m)\n\u001B[1;32m     65\u001B[0m train_data \u001B[38;5;241m=\u001B[39m sequences[:train_size]\n",
      "Cell \u001B[0;32mIn[32], line 62\u001B[0m, in \u001B[0;36m<listcomp>\u001B[0;34m(.0)\u001B[0m\n\u001B[1;32m     60\u001B[0m seq_length \u001B[38;5;241m=\u001B[39m \u001B[38;5;241m30\u001B[39m\n\u001B[1;32m     61\u001B[0m future_pred \u001B[38;5;241m=\u001B[39m \u001B[38;5;241m30\u001B[39m\n\u001B[0;32m---> 62\u001B[0m sequences \u001B[38;5;241m=\u001B[39m [([\u001B[43mdf\u001B[49m\u001B[43m[\u001B[49m\u001B[43mi\u001B[49m\u001B[38;5;241;43m+\u001B[39;49m\u001B[43mj\u001B[49m\u001B[43m]\u001B[49m \u001B[38;5;28;01mfor\u001B[39;00m j \u001B[38;5;129;01min\u001B[39;00m \u001B[38;5;28mrange\u001B[39m(seq_length)], [df[i\u001B[38;5;241m+\u001B[39mj\u001B[38;5;241m+\u001B[39mseq_length] \u001B[38;5;28;01mfor\u001B[39;00m j \u001B[38;5;129;01min\u001B[39;00m \u001B[38;5;28mrange\u001B[39m(future_pred)]) \u001B[38;5;28;01mfor\u001B[39;00m i \u001B[38;5;129;01min\u001B[39;00m \u001B[38;5;28mrange\u001B[39m(\u001B[38;5;28mlen\u001B[39m(df)\u001B[38;5;241m-\u001B[39mseq_length\u001B[38;5;241m-\u001B[39mfuture_pred)]\n\u001B[1;32m     64\u001B[0m train_size \u001B[38;5;241m=\u001B[39m \u001B[38;5;28mint\u001B[39m(\u001B[38;5;28mlen\u001B[39m(sequences) \u001B[38;5;241m*\u001B[39m \u001B[38;5;241m0.8\u001B[39m)\n\u001B[1;32m     65\u001B[0m train_data \u001B[38;5;241m=\u001B[39m sequences[:train_size]\n",
      "File \u001B[0;32m~/miniforge3/lib/python3.10/site-packages/pandas/core/frame.py:3761\u001B[0m, in \u001B[0;36mDataFrame.__getitem__\u001B[0;34m(self, key)\u001B[0m\n\u001B[1;32m   3759\u001B[0m \u001B[38;5;28;01mif\u001B[39;00m \u001B[38;5;28mself\u001B[39m\u001B[38;5;241m.\u001B[39mcolumns\u001B[38;5;241m.\u001B[39mnlevels \u001B[38;5;241m>\u001B[39m \u001B[38;5;241m1\u001B[39m:\n\u001B[1;32m   3760\u001B[0m     \u001B[38;5;28;01mreturn\u001B[39;00m \u001B[38;5;28mself\u001B[39m\u001B[38;5;241m.\u001B[39m_getitem_multilevel(key)\n\u001B[0;32m-> 3761\u001B[0m indexer \u001B[38;5;241m=\u001B[39m \u001B[38;5;28;43mself\u001B[39;49m\u001B[38;5;241;43m.\u001B[39;49m\u001B[43mcolumns\u001B[49m\u001B[38;5;241;43m.\u001B[39;49m\u001B[43mget_loc\u001B[49m\u001B[43m(\u001B[49m\u001B[43mkey\u001B[49m\u001B[43m)\u001B[49m\n\u001B[1;32m   3762\u001B[0m \u001B[38;5;28;01mif\u001B[39;00m is_integer(indexer):\n\u001B[1;32m   3763\u001B[0m     indexer \u001B[38;5;241m=\u001B[39m [indexer]\n",
      "File \u001B[0;32m~/miniforge3/lib/python3.10/site-packages/pandas/core/indexes/base.py:3655\u001B[0m, in \u001B[0;36mIndex.get_loc\u001B[0;34m(self, key)\u001B[0m\n\u001B[1;32m   3653\u001B[0m     \u001B[38;5;28;01mreturn\u001B[39;00m \u001B[38;5;28mself\u001B[39m\u001B[38;5;241m.\u001B[39m_engine\u001B[38;5;241m.\u001B[39mget_loc(casted_key)\n\u001B[1;32m   3654\u001B[0m \u001B[38;5;28;01mexcept\u001B[39;00m \u001B[38;5;167;01mKeyError\u001B[39;00m \u001B[38;5;28;01mas\u001B[39;00m err:\n\u001B[0;32m-> 3655\u001B[0m     \u001B[38;5;28;01mraise\u001B[39;00m \u001B[38;5;167;01mKeyError\u001B[39;00m(key) \u001B[38;5;28;01mfrom\u001B[39;00m \u001B[38;5;21;01merr\u001B[39;00m\n\u001B[1;32m   3656\u001B[0m \u001B[38;5;28;01mexcept\u001B[39;00m \u001B[38;5;167;01mTypeError\u001B[39;00m:\n\u001B[1;32m   3657\u001B[0m     \u001B[38;5;66;03m# If we have a listlike key, _check_indexing_error will raise\u001B[39;00m\n\u001B[1;32m   3658\u001B[0m     \u001B[38;5;66;03m#  InvalidIndexError. Otherwise we fall through and re-raise\u001B[39;00m\n\u001B[1;32m   3659\u001B[0m     \u001B[38;5;66;03m#  the TypeError.\u001B[39;00m\n\u001B[1;32m   3660\u001B[0m     \u001B[38;5;28mself\u001B[39m\u001B[38;5;241m.\u001B[39m_check_indexing_error(key)\n",
      "\u001B[0;31mKeyError\u001B[0m: 0"
     ]
    }
   ],
   "source": [
    "# 데이터 스케일링\n",
    "scaler = MinMaxScaler(feature_range=(-1, 1))\n",
    "df['Close'] = scaler.fit_transform(df['Close'].values.reshape(-1,1))\n",
    "\n",
    "# 학습과 테스트 데이터 분할\n",
    "test_data_size = 60\n",
    "train_data = df[:-test_data_size]\n",
    "test_data = df[-test_data_size:]\n",
    "\n",
    "train_data = torch.FloatTensor(train_data.values)\n",
    "\n",
    "# 시퀀스 데이터 생성\n",
    "def create_sequences(data, seq_length):\n",
    "    sequences = []\n",
    "    for i in range(len(data)-seq_length-1):\n",
    "        seq = data[i:i+seq_length]\n",
    "        label = data[i+seq_length:i+seq_length+1]\n",
    "        sequences.append((seq, label))\n",
    "    return sequences\n",
    "\n",
    "seq_length = 30\n",
    "sequences = create_sequences(train_data, seq_length)\n",
    "\n",
    "# LSTM 모델 정의\n",
    "class StockPredictor(nn.Module):\n",
    "    def __init__(self, n_features, n_hidden, seq_len, n_layers=2):\n",
    "        super(StockPredictor, self).__init__()\n",
    "\n",
    "        self.n_hidden = n_hidden\n",
    "        self.seq_len = seq_len\n",
    "        self.n_layers = n_layers\n",
    "\n",
    "        self.lstm = nn.LSTM(\n",
    "          input_size=n_features,\n",
    "          hidden_size=n_hidden,\n",
    "          num_layers=n_layers,\n",
    "          dropout=0.5\n",
    "        )\n",
    "\n",
    "        self.linear = nn.Linear(in_features=n_hidden, out_features=future_pred)\n",
    "\n",
    "    def reset_hidden_state(self):\n",
    "        self.hidden = (\n",
    "            torch.zeros(self.n_layers, self.seq_len, self.n_hidden),\n",
    "            torch.zeros(self.n_layers, self.seq_len, self.n_hidden)\n",
    "        )\n",
    "\n",
    "    def forward(self, sequences):\n",
    "        lstm_out, self.hidden = self.lstm(sequences.view(len(sequences), self.seq_len, -1), self.hidden)\n",
    "        last_time_step = lstm_out.view(self.seq_len, len(sequences), self.n_hidden)[-1]\n",
    "        y_pred = self.linear(last_time_step)\n",
    "\n",
    "        return y_pred\n",
    "\n",
    "model = StockPredictor(1, 128, 2, 1)\n",
    "criterion = nn.MSELoss()\n",
    "optimizer = torch.optim.Adam(model.parameters(), lr=0.001)\n",
    "\n",
    "epochs = 100\n",
    "seq_length = 30\n",
    "future_pred = 30\n",
    "sequences = [([df[i+j] for j in range(seq_length)], [df[i+j+seq_length] for j in range(future_pred)]) for i in range(len(df)-seq_length-future_pred)]\n",
    "\n",
    "train_size = int(len(sequences) * 0.8)\n",
    "train_data = sequences[:train_size]\n",
    "test_data = sequences[train_size:]\n",
    "\n",
    "# 훈련 루프\n",
    "for epoch in range(epochs):\n",
    "    for seq, y_train in train_data:\n",
    "        optimizer.zero_grad()\n",
    "        model.hidden = (torch.zeros(1, 1, model.hidden_dim),\n",
    "                        torch.zeros(1, 1, model.hidden_dim))\n",
    "\n",
    "        seq = torch.FloatTensor(seq).view(seq_length, 1, 1)\n",
    "        y_train = torch.FloatTensor(y_train).view(future_pred, 1)\n",
    "\n",
    "        y_pred = model(seq)\n",
    "\n",
    "        loss = criterion(y_pred, y_train)\n",
    "        loss.backward()\n",
    "        optimizer.step()\n",
    "\n",
    "    print(f'Epoch {epoch} Loss {loss.item()}')\n",
    "\n"
   ],
   "metadata": {
    "collapsed": false
   }
  },
  {
   "cell_type": "code",
   "execution_count": 47,
   "outputs": [
    {
     "name": "stdout",
     "output_type": "stream",
     "text": [
      "LSTM output shape: torch.Size([1, 200, 20])\n",
      "LSTM hn shape: torch.Size([1, 1, 20])\n",
      "LSTM cn shape: torch.Size([1, 1, 20])\n"
     ]
    }
   ],
   "source": [
    "for seq, labels in sequences:\n",
    "    break"
   ],
   "metadata": {
    "collapsed": false,
    "ExecuteTime": {
     "start_time": "2023-07-17T21:28:15.443231Z",
     "end_time": "2023-07-17T21:28:15.549252Z"
    }
   }
  },
  {
   "cell_type": "code",
   "execution_count": 48,
   "outputs": [
    {
     "data": {
      "text/plain": "tensor([-0.0362, -0.1588, -0.1701,  0.0795,  0.1226,  0.0474, -0.0110,  0.0525,\n        -0.0491,  0.0599,  0.0788, -0.0597, -0.0438,  0.0516, -0.1031,  0.2357,\n         0.0581, -0.1118,  0.1886,  0.0307], grad_fn=<SqueezeBackward0>)"
     },
     "execution_count": 48,
     "metadata": {},
     "output_type": "execute_result"
    }
   ],
   "source": [
    "test_inputs = df['Close'][-test_data_size-seq_length:].values\n",
    "print(test_inputs.shape)"
   ],
   "metadata": {
    "collapsed": false,
    "ExecuteTime": {
     "start_time": "2023-07-17T21:28:15.931385Z",
     "end_time": "2023-07-17T21:28:15.935808Z"
    }
   }
  },
  {
   "cell_type": "code",
   "execution_count": 49,
   "outputs": [
    {
     "data": {
      "text/plain": "tensor([-0.0362, -0.1588, -0.1701,  0.0795,  0.1226,  0.0474, -0.0110,  0.0525,\n        -0.0491,  0.0599,  0.0788, -0.0597, -0.0438,  0.0516, -0.1031,  0.2357,\n         0.0581, -0.1118,  0.1886,  0.0307], grad_fn=<SqueezeBackward0>)"
     },
     "execution_count": 49,
     "metadata": {},
     "output_type": "execute_result"
    }
   ],
   "source": [
    "# 예측 수행\n",
    "model.eval()\n",
    "\n",
    "test_inputs = df['Close'][-test_data_size-seq_length:].values\n",
    "test_inputs = torch.FloatTensor(test_inputs).view(-1, 1)\n",
    "\n",
    "future_pred = 30\n",
    "test_preds = test_inputs[-seq_length:].tolist()\n",
    "test_preds = [x[0] for x in test_preds]\n",
    "\n",
    "for i in range(future_pred):\n",
    "    seq = torch.FloatTensor(test_preds[-seq_length:])\n",
    "    seq = seq.view(1, seq_length, 1)\n",
    "    with torch.no_grad():\n",
    "        model.hidden = (torch.zeros(1, 1, model.hidden_dim),\n",
    "                        torch.zeros(1, 1, model.hidden_dim))\n",
    "        test_preds.append(model(seq).item())\n"
   ],
   "metadata": {
    "collapsed": false,
    "ExecuteTime": {
     "start_time": "2023-07-17T21:28:16.425982Z",
     "end_time": "2023-07-17T21:28:16.433496Z"
    }
   }
  },
  {
   "cell_type": "code",
   "execution_count": 50,
   "outputs": [
    {
     "data": {
      "text/plain": "tensor([-0.0800, -0.2543, -0.2359,  0.2524,  0.3194,  0.1062, -0.0356,  0.1488,\n        -0.0877,  0.1343,  0.1579, -0.1364, -0.0794,  0.1050, -0.4178,  0.3564,\n         0.1088, -0.1730,  0.4015,  0.0471], grad_fn=<SqueezeBackward0>)"
     },
     "execution_count": 50,
     "metadata": {},
     "output_type": "execute_result"
    }
   ],
   "source": [
    "# 예측 결과를 원래의 스케일로 변환합니다.\n",
    "actual_predictions = scaler.inverse_transform(np.array(test_preds[seq_length:]).reshape(-1, 1))\n",
    "\n",
    "# 예측 결과를 플로팅합니다.\n",
    "plt.figure(figsize=(10,6))\n",
    "\n",
    "# 실제 데이터 플로팅\n",
    "plt.plot(df.index, scaler.inverse_transform(df['Close'].values.reshape(-1, 1)), label='Actual')\n",
    "\n",
    "# 예측 데이터 플로팅\n",
    "plt.plot(df.index[-future_pred:], actual_predictions, label='Predicted')\n",
    "\n",
    "# 예측의 시작을 나타내는 점선 추가\n",
    "plt.axvline(df.index[-future_pred], color='r', linestyle='dashed', linewidth=2)\n",
    "\n",
    "plt.title('Apple Stock Price Prediction')\n",
    "plt.xlabel('Dates')\n",
    "plt.ylabel('Price')\n",
    "plt.legend()\n",
    "plt.show()\n"
   ],
   "metadata": {
    "collapsed": false,
    "ExecuteTime": {
     "start_time": "2023-07-17T21:28:17.187012Z",
     "end_time": "2023-07-17T21:28:17.193203Z"
    }
   }
  },
  {
   "cell_type": "code",
   "execution_count": null,
   "outputs": [],
   "source": [],
   "metadata": {
    "collapsed": false
   }
  }
 ],
 "metadata": {
  "kernelspec": {
   "display_name": "Python 3",
   "language": "python",
   "name": "python3"
  },
  "language_info": {
   "codemirror_mode": {
    "name": "ipython",
    "version": 2
   },
   "file_extension": ".py",
   "mimetype": "text/x-python",
   "name": "python",
   "nbconvert_exporter": "python",
   "pygments_lexer": "ipython2",
   "version": "2.7.6"
  }
 },
 "nbformat": 4,
 "nbformat_minor": 0
}
